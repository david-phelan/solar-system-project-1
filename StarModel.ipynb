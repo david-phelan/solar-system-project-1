{
 "cells": [
  {
   "cell_type": "code",
   "execution_count": 65,
   "id": "aad9d7fe",
   "metadata": {},
   "outputs": [],
   "source": [
    "import numpy as np\n",
    "import plotly.graph_objects as go\n",
    "import plotly.express as px\n",
    "from plotly.subplots import make_subplots"
   ]
  },
  {
   "cell_type": "markdown",
   "id": "c642f936",
   "metadata": {},
   "source": [
    "$P_{Fusion}(E,T) \\propto \\dfrac{1}{(kT)^{3/2}}\\ \\exp\\left(-\\dfrac{E}{kT}\\right)\\ \\exp\\left(-\\dfrac{b}{\\sqrt{E}}\\right)$  \n",
    "\\\n",
    "$T_C \\approx 1.6\\times10^7\\ \\left(\\dfrac{R_0}{R}\\right)\\left(\\dfrac{M}{M_0}\\right)$"
   ]
  },
  {
   "cell_type": "code",
   "execution_count": 66,
   "id": "fe9df0ac",
   "metadata": {},
   "outputs": [],
   "source": [
    "sun_radius = 6.957*10**8 #metres\n",
    "sun_mass = 1.989*10**30 #kg\n",
    "boltzmann = 1.380649*10**-23 #J/K\n",
    "b = 10**-6"
   ]
  },
  {
   "cell_type": "code",
   "execution_count": 67,
   "id": "1769a10a",
   "metadata": {},
   "outputs": [],
   "source": [
    "def central_temperature(star_radius, star_mass):\n",
    "\n",
    "    return 1.6*10**7 * (sun_radius/star_radius) * (star_mass/sun_mass)"
   ]
  },
  {
   "cell_type": "code",
   "execution_count": 68,
   "id": "c5f59691",
   "metadata": {},
   "outputs": [],
   "source": [
    "def plot(figure, figures=1):\n",
    "    figure.update_layout(\n",
    "        autosize=True,\n",
    "        width=(1920/2) * figures,\n",
    "        height=1080/2,\n",
    "    )\n",
    "    figure.show()"
   ]
  },
  {
   "cell_type": "code",
   "execution_count": 69,
   "id": "c0d5d14c",
   "metadata": {},
   "outputs": [],
   "source": [
    "energy = np.array(np.linspace(1*10**-16, 100*10**-16, 100))\n",
    "kT = boltzmann*central_temperature(sun_radius, sun_mass)\n",
    "exp_1 = np.exp(-energy/kT)\n",
    "exp_2 = np.exp(-b/energy**(1/2))\n",
    "fusion_probability = (1/(kT**(3/2)))*exp_1*exp_2"
   ]
  },
  {
   "cell_type": "code",
   "execution_count": 70,
   "id": "d1779244",
   "metadata": {},
   "outputs": [
    {
     "data": {
      "application/vnd.plotly.v1+json": {
       "config": {
        "plotlyServerURL": "https://plot.ly"
       },
       "data": [
        {
         "mode": "markers",
         "name": "",
         "type": "scatter",
         "x": {
          "bdata": "vInYl7LSnDy8idiXstKsPE5n4vEFnrU8vYnYl7LSvDwWVueerwPCPE5n4vEFnsU8hnjdRFw4yTy8idiXstLMPHrNaXWENtA8Flbnnq8D0jyy3mTI2tDTPE5n4vEFntU86u9fGzFr1zyGeN1EXDjZPCEBW26HBds8vYnYl7LS3DxZElbB3Z/ePHrNaXWENuA8yJEoChod4TwWVueerwPiPGQapjNF6uI8st5kyNrQ4zwAoyNdcLfkPE5n4vEFnuU8nCuhhpuE5jzq718bMWvnPDi0HrDGUeg8hXjdRFw46TzTPJzZ8R7qPCEBW26HBes8b8UZAx3s6zy9idiXstLsPAtOlyxIue08WRJWwd2f7jyn1hRWc4bvPHrNaXWENvA8oS/JP8+p8DzIkSgKGh3xPO/zh9RkkPE8Flbnnq8D8jw9uEZp+nbyPGQapjNF6vI8i3wF/o9d8zyy3mTI2tDzPNlAxJIlRPQ8AKMjXXC39DwnBYMnuyr1PE5n4vEFnvU8dclBvFAR9jycK6GGm4T2PMONAFHm9/Y86u9fGzFr9zwRUr/le973PDi0HrDGUfg8XhZ+ehHF+DyFeN1EXDj5PKzaPA+nq/k80zyc2fEe+jz6nvujPJL6PCEBW26HBfs8SGO6ONJ4+zxvxRkDHez7PJYnec1nX/w8vYnYl7LS/Dzk6zdi/UX9PAtOlyxIuf08MrD29pIs/jxZElbB3Z/+PIB0tYsoE/88p9YUVnOG/zzOOHQgvvn/PHrNaXWENgA9jX6Z2ilwAD2hL8k/z6kAPbTg+KR04wA9yJEoChodAT3bQlhvv1YBPe/zh9RkkAE9AqW3OQrKAT0WVueerwMCPSkHFwRVPQI9PbhGafp2Aj1QaXbOn7ACPWQapjNF6gI9d8vVmOojAz2LfAX+j10DPZ4tNWM1lwM9sd5kyNrQAz3Fj5QtgAoEPdhAxJIlRAQ97PHz98p9BD3/oiNdcLcEPRNUU8IV8QQ9JgWDJ7sqBT06trKMYGQFPU1n4vEFngU9YRgSV6vXBT10yUG8UBEGPYh6cSH2SgY9myuhhpuEBj0=",
          "dtype": "f8"
         },
         "y": {
          "bdata": "fjTFs3BZ5D/P0Va6jeHZP5jAeQ1PddA/E8OnRqPuxD8raTH2Tp+6P+0qnzD67bA/A8iDvBuIpT9xl5twf2KbP681aAsaapE/gq2Bafklhj9Cr+gBRyt8PzTxZvTH6XE/Gw98h1zIZj85wo6mzvlcP8Sq8/sdbVI/58+TPGZvRz9kgoSHQM49P/b7fvE29DI/iGv0oTgbKD+De9wCyKgeP47cCmkufxM/guTJyvbLCD/VZZ+0kYn/PtbUy8AgDvQ+m7tpy8SB6T7KsPO/ZTjgPh128yYrodQ+cGWwwMc8yj4A+x5MUq/APgNJpZ9rOLU+hsCU1yX9qj7wXp/FpimhPm9nFwsB1JU+tBbzVAbDiz4vXUAlfKeBPkQE4CsLdHY+/EGRnZGObD7MJ+Qa7ChiPvYnca2qGFc+apZdPvFfTT7MAMISEa5CPu72wyoBwjc+wkHq9E83Lj4sC8s6BjcjPivdNDUxcBg+BdsmuNkUDz60pjaI58MDPg4FklteI/k9IOlZwbv47z13eje90VTkPbKLXTGt29k9zBuuSpJx0D3sVtpu4unEPa3sRFZDmbo9dO0LByLqsD1tIxALOIOlPbEsz31HXJs9WmkmsiVmkT3mEOTe8SCGPSRSQ3fhJHw9aabOnLblcT0yWd8cMMNmPSvMyDU681w9uMhx0e5oUj0Z1pvjE2pHPSJtw9h7xz09GtxpGenvMj2xyYZEvxUoPSawbLTRoR49Wqd1AsF6Ez1fN9VKVcYIPcYIrFpogv88jZdY5JIJ9DygO6sC+nvpPGEGGNK2NOA8yuej5nuc1Dxq1HeA0jbKPKwp5VyIq8A8UjWqBpoztTwpoIboBPeqPMX4Bw/BJaE8TrWeHQzPlTxeGcl2uLyLPO5FoNt5o4E8ck7h5vFudjwm6diGFYhsPBgCu2zMJGI8k9t4BmwTVzxs8zScRVlNPD1pjyjTqUI8u++8D5y8NzzbxrpqczAuPJOa4japMiM87XEwjKRqGDz9Ml7fyg0PPHiykoZqvwM8Q3qOAqkd+TvmxSApefHvO1eHStMzUOQ76uAK/s3V2Ts=",
          "dtype": "f8"
         }
        }
       ],
       "layout": {
        "autosize": true,
        "height": 540,
        "legend": {
         "x": 0.65,
         "y": 0.98
        },
        "template": {
         "data": {
          "bar": [
           {
            "error_x": {
             "color": "#2a3f5f"
            },
            "error_y": {
             "color": "#2a3f5f"
            },
            "marker": {
             "line": {
              "color": "#E5ECF6",
              "width": 0.5
             },
             "pattern": {
              "fillmode": "overlay",
              "size": 10,
              "solidity": 0.2
             }
            },
            "type": "bar"
           }
          ],
          "barpolar": [
           {
            "marker": {
             "line": {
              "color": "#E5ECF6",
              "width": 0.5
             },
             "pattern": {
              "fillmode": "overlay",
              "size": 10,
              "solidity": 0.2
             }
            },
            "type": "barpolar"
           }
          ],
          "carpet": [
           {
            "aaxis": {
             "endlinecolor": "#2a3f5f",
             "gridcolor": "white",
             "linecolor": "white",
             "minorgridcolor": "white",
             "startlinecolor": "#2a3f5f"
            },
            "baxis": {
             "endlinecolor": "#2a3f5f",
             "gridcolor": "white",
             "linecolor": "white",
             "minorgridcolor": "white",
             "startlinecolor": "#2a3f5f"
            },
            "type": "carpet"
           }
          ],
          "choropleth": [
           {
            "colorbar": {
             "outlinewidth": 0,
             "ticks": ""
            },
            "type": "choropleth"
           }
          ],
          "contour": [
           {
            "colorbar": {
             "outlinewidth": 0,
             "ticks": ""
            },
            "colorscale": [
             [
              0,
              "#0d0887"
             ],
             [
              0.1111111111111111,
              "#46039f"
             ],
             [
              0.2222222222222222,
              "#7201a8"
             ],
             [
              0.3333333333333333,
              "#9c179e"
             ],
             [
              0.4444444444444444,
              "#bd3786"
             ],
             [
              0.5555555555555556,
              "#d8576b"
             ],
             [
              0.6666666666666666,
              "#ed7953"
             ],
             [
              0.7777777777777778,
              "#fb9f3a"
             ],
             [
              0.8888888888888888,
              "#fdca26"
             ],
             [
              1,
              "#f0f921"
             ]
            ],
            "type": "contour"
           }
          ],
          "contourcarpet": [
           {
            "colorbar": {
             "outlinewidth": 0,
             "ticks": ""
            },
            "type": "contourcarpet"
           }
          ],
          "heatmap": [
           {
            "colorbar": {
             "outlinewidth": 0,
             "ticks": ""
            },
            "colorscale": [
             [
              0,
              "#0d0887"
             ],
             [
              0.1111111111111111,
              "#46039f"
             ],
             [
              0.2222222222222222,
              "#7201a8"
             ],
             [
              0.3333333333333333,
              "#9c179e"
             ],
             [
              0.4444444444444444,
              "#bd3786"
             ],
             [
              0.5555555555555556,
              "#d8576b"
             ],
             [
              0.6666666666666666,
              "#ed7953"
             ],
             [
              0.7777777777777778,
              "#fb9f3a"
             ],
             [
              0.8888888888888888,
              "#fdca26"
             ],
             [
              1,
              "#f0f921"
             ]
            ],
            "type": "heatmap"
           }
          ],
          "histogram": [
           {
            "marker": {
             "pattern": {
              "fillmode": "overlay",
              "size": 10,
              "solidity": 0.2
             }
            },
            "type": "histogram"
           }
          ],
          "histogram2d": [
           {
            "colorbar": {
             "outlinewidth": 0,
             "ticks": ""
            },
            "colorscale": [
             [
              0,
              "#0d0887"
             ],
             [
              0.1111111111111111,
              "#46039f"
             ],
             [
              0.2222222222222222,
              "#7201a8"
             ],
             [
              0.3333333333333333,
              "#9c179e"
             ],
             [
              0.4444444444444444,
              "#bd3786"
             ],
             [
              0.5555555555555556,
              "#d8576b"
             ],
             [
              0.6666666666666666,
              "#ed7953"
             ],
             [
              0.7777777777777778,
              "#fb9f3a"
             ],
             [
              0.8888888888888888,
              "#fdca26"
             ],
             [
              1,
              "#f0f921"
             ]
            ],
            "type": "histogram2d"
           }
          ],
          "histogram2dcontour": [
           {
            "colorbar": {
             "outlinewidth": 0,
             "ticks": ""
            },
            "colorscale": [
             [
              0,
              "#0d0887"
             ],
             [
              0.1111111111111111,
              "#46039f"
             ],
             [
              0.2222222222222222,
              "#7201a8"
             ],
             [
              0.3333333333333333,
              "#9c179e"
             ],
             [
              0.4444444444444444,
              "#bd3786"
             ],
             [
              0.5555555555555556,
              "#d8576b"
             ],
             [
              0.6666666666666666,
              "#ed7953"
             ],
             [
              0.7777777777777778,
              "#fb9f3a"
             ],
             [
              0.8888888888888888,
              "#fdca26"
             ],
             [
              1,
              "#f0f921"
             ]
            ],
            "type": "histogram2dcontour"
           }
          ],
          "mesh3d": [
           {
            "colorbar": {
             "outlinewidth": 0,
             "ticks": ""
            },
            "type": "mesh3d"
           }
          ],
          "parcoords": [
           {
            "line": {
             "colorbar": {
              "outlinewidth": 0,
              "ticks": ""
             }
            },
            "type": "parcoords"
           }
          ],
          "pie": [
           {
            "automargin": true,
            "type": "pie"
           }
          ],
          "scatter": [
           {
            "fillpattern": {
             "fillmode": "overlay",
             "size": 10,
             "solidity": 0.2
            },
            "type": "scatter"
           }
          ],
          "scatter3d": [
           {
            "line": {
             "colorbar": {
              "outlinewidth": 0,
              "ticks": ""
             }
            },
            "marker": {
             "colorbar": {
              "outlinewidth": 0,
              "ticks": ""
             }
            },
            "type": "scatter3d"
           }
          ],
          "scattercarpet": [
           {
            "marker": {
             "colorbar": {
              "outlinewidth": 0,
              "ticks": ""
             }
            },
            "type": "scattercarpet"
           }
          ],
          "scattergeo": [
           {
            "marker": {
             "colorbar": {
              "outlinewidth": 0,
              "ticks": ""
             }
            },
            "type": "scattergeo"
           }
          ],
          "scattergl": [
           {
            "marker": {
             "colorbar": {
              "outlinewidth": 0,
              "ticks": ""
             }
            },
            "type": "scattergl"
           }
          ],
          "scattermap": [
           {
            "marker": {
             "colorbar": {
              "outlinewidth": 0,
              "ticks": ""
             }
            },
            "type": "scattermap"
           }
          ],
          "scattermapbox": [
           {
            "marker": {
             "colorbar": {
              "outlinewidth": 0,
              "ticks": ""
             }
            },
            "type": "scattermapbox"
           }
          ],
          "scatterpolar": [
           {
            "marker": {
             "colorbar": {
              "outlinewidth": 0,
              "ticks": ""
             }
            },
            "type": "scatterpolar"
           }
          ],
          "scatterpolargl": [
           {
            "marker": {
             "colorbar": {
              "outlinewidth": 0,
              "ticks": ""
             }
            },
            "type": "scatterpolargl"
           }
          ],
          "scatterternary": [
           {
            "marker": {
             "colorbar": {
              "outlinewidth": 0,
              "ticks": ""
             }
            },
            "type": "scatterternary"
           }
          ],
          "surface": [
           {
            "colorbar": {
             "outlinewidth": 0,
             "ticks": ""
            },
            "colorscale": [
             [
              0,
              "#0d0887"
             ],
             [
              0.1111111111111111,
              "#46039f"
             ],
             [
              0.2222222222222222,
              "#7201a8"
             ],
             [
              0.3333333333333333,
              "#9c179e"
             ],
             [
              0.4444444444444444,
              "#bd3786"
             ],
             [
              0.5555555555555556,
              "#d8576b"
             ],
             [
              0.6666666666666666,
              "#ed7953"
             ],
             [
              0.7777777777777778,
              "#fb9f3a"
             ],
             [
              0.8888888888888888,
              "#fdca26"
             ],
             [
              1,
              "#f0f921"
             ]
            ],
            "type": "surface"
           }
          ],
          "table": [
           {
            "cells": {
             "fill": {
              "color": "#EBF0F8"
             },
             "line": {
              "color": "white"
             }
            },
            "header": {
             "fill": {
              "color": "#C8D4E3"
             },
             "line": {
              "color": "white"
             }
            },
            "type": "table"
           }
          ]
         },
         "layout": {
          "annotationdefaults": {
           "arrowcolor": "#2a3f5f",
           "arrowhead": 0,
           "arrowwidth": 1
          },
          "autotypenumbers": "strict",
          "coloraxis": {
           "colorbar": {
            "outlinewidth": 0,
            "ticks": ""
           }
          },
          "colorscale": {
           "diverging": [
            [
             0,
             "#8e0152"
            ],
            [
             0.1,
             "#c51b7d"
            ],
            [
             0.2,
             "#de77ae"
            ],
            [
             0.3,
             "#f1b6da"
            ],
            [
             0.4,
             "#fde0ef"
            ],
            [
             0.5,
             "#f7f7f7"
            ],
            [
             0.6,
             "#e6f5d0"
            ],
            [
             0.7,
             "#b8e186"
            ],
            [
             0.8,
             "#7fbc41"
            ],
            [
             0.9,
             "#4d9221"
            ],
            [
             1,
             "#276419"
            ]
           ],
           "sequential": [
            [
             0,
             "#0d0887"
            ],
            [
             0.1111111111111111,
             "#46039f"
            ],
            [
             0.2222222222222222,
             "#7201a8"
            ],
            [
             0.3333333333333333,
             "#9c179e"
            ],
            [
             0.4444444444444444,
             "#bd3786"
            ],
            [
             0.5555555555555556,
             "#d8576b"
            ],
            [
             0.6666666666666666,
             "#ed7953"
            ],
            [
             0.7777777777777778,
             "#fb9f3a"
            ],
            [
             0.8888888888888888,
             "#fdca26"
            ],
            [
             1,
             "#f0f921"
            ]
           ],
           "sequentialminus": [
            [
             0,
             "#0d0887"
            ],
            [
             0.1111111111111111,
             "#46039f"
            ],
            [
             0.2222222222222222,
             "#7201a8"
            ],
            [
             0.3333333333333333,
             "#9c179e"
            ],
            [
             0.4444444444444444,
             "#bd3786"
            ],
            [
             0.5555555555555556,
             "#d8576b"
            ],
            [
             0.6666666666666666,
             "#ed7953"
            ],
            [
             0.7777777777777778,
             "#fb9f3a"
            ],
            [
             0.8888888888888888,
             "#fdca26"
            ],
            [
             1,
             "#f0f921"
            ]
           ]
          },
          "colorway": [
           "#636efa",
           "#EF553B",
           "#00cc96",
           "#ab63fa",
           "#FFA15A",
           "#19d3f3",
           "#FF6692",
           "#B6E880",
           "#FF97FF",
           "#FECB52"
          ],
          "font": {
           "color": "#2a3f5f"
          },
          "geo": {
           "bgcolor": "white",
           "lakecolor": "white",
           "landcolor": "#E5ECF6",
           "showlakes": true,
           "showland": true,
           "subunitcolor": "white"
          },
          "hoverlabel": {
           "align": "left"
          },
          "hovermode": "closest",
          "mapbox": {
           "style": "light"
          },
          "paper_bgcolor": "white",
          "plot_bgcolor": "#E5ECF6",
          "polar": {
           "angularaxis": {
            "gridcolor": "white",
            "linecolor": "white",
            "ticks": ""
           },
           "bgcolor": "#E5ECF6",
           "radialaxis": {
            "gridcolor": "white",
            "linecolor": "white",
            "ticks": ""
           }
          },
          "scene": {
           "xaxis": {
            "backgroundcolor": "#E5ECF6",
            "gridcolor": "white",
            "gridwidth": 2,
            "linecolor": "white",
            "showbackground": true,
            "ticks": "",
            "zerolinecolor": "white"
           },
           "yaxis": {
            "backgroundcolor": "#E5ECF6",
            "gridcolor": "white",
            "gridwidth": 2,
            "linecolor": "white",
            "showbackground": true,
            "ticks": "",
            "zerolinecolor": "white"
           },
           "zaxis": {
            "backgroundcolor": "#E5ECF6",
            "gridcolor": "white",
            "gridwidth": 2,
            "linecolor": "white",
            "showbackground": true,
            "ticks": "",
            "zerolinecolor": "white"
           }
          },
          "shapedefaults": {
           "line": {
            "color": "#2a3f5f"
           }
          },
          "ternary": {
           "aaxis": {
            "gridcolor": "white",
            "linecolor": "white",
            "ticks": ""
           },
           "baxis": {
            "gridcolor": "white",
            "linecolor": "white",
            "ticks": ""
           },
           "bgcolor": "#E5ECF6",
           "caxis": {
            "gridcolor": "white",
            "linecolor": "white",
            "ticks": ""
           }
          },
          "title": {
           "x": 0.05
          },
          "xaxis": {
           "automargin": true,
           "gridcolor": "white",
           "linecolor": "white",
           "ticks": "",
           "title": {
            "standoff": 15
           },
           "zerolinecolor": "white",
           "zerolinewidth": 2
          },
          "yaxis": {
           "automargin": true,
           "gridcolor": "white",
           "linecolor": "white",
           "ticks": "",
           "title": {
            "standoff": 15
           },
           "zerolinecolor": "white",
           "zerolinewidth": 2
          }
         }
        },
        "title": {
         "text": ""
        },
        "width": 960,
        "xaxis": {
         "title": {
          "text": ""
         }
        },
        "yaxis": {
         "title": {
          "text": ""
         }
        }
       }
      }
     },
     "metadata": {},
     "output_type": "display_data"
    }
   ],
   "source": [
    "fig = go.Figure()\n",
    "\n",
    "fig.add_trace(go.Scatter(\n",
    "        x=energy,\n",
    "        y=exp_1,\n",
    "        mode='markers',\n",
    "        name=f\"\"\n",
    "))\n",
    "\n",
    "fig.update_layout(\n",
    "        title=f\"\",\n",
    "        xaxis_title=\"\",\n",
    "        yaxis_title=\"\",\n",
    "        legend=dict(x=0.65, y=0.98)\n",
    ")\n",
    "\n",
    "plot(fig)"
   ]
  },
  {
   "cell_type": "code",
   "execution_count": 71,
   "id": "bcff2b84",
   "metadata": {},
   "outputs": [
    {
     "data": {
      "application/vnd.plotly.v1+json": {
       "config": {
        "plotlyServerURL": "https://plot.ly"
       },
       "data": [
        {
         "mode": "markers",
         "name": "",
         "type": "scatter",
         "x": {
          "bdata": "vInYl7LSnDy8idiXstKsPE5n4vEFnrU8vYnYl7LSvDwWVueerwPCPE5n4vEFnsU8hnjdRFw4yTy8idiXstLMPHrNaXWENtA8Flbnnq8D0jyy3mTI2tDTPE5n4vEFntU86u9fGzFr1zyGeN1EXDjZPCEBW26HBds8vYnYl7LS3DxZElbB3Z/ePHrNaXWENuA8yJEoChod4TwWVueerwPiPGQapjNF6uI8st5kyNrQ4zwAoyNdcLfkPE5n4vEFnuU8nCuhhpuE5jzq718bMWvnPDi0HrDGUeg8hXjdRFw46TzTPJzZ8R7qPCEBW26HBes8b8UZAx3s6zy9idiXstLsPAtOlyxIue08WRJWwd2f7jyn1hRWc4bvPHrNaXWENvA8oS/JP8+p8DzIkSgKGh3xPO/zh9RkkPE8Flbnnq8D8jw9uEZp+nbyPGQapjNF6vI8i3wF/o9d8zyy3mTI2tDzPNlAxJIlRPQ8AKMjXXC39DwnBYMnuyr1PE5n4vEFnvU8dclBvFAR9jycK6GGm4T2PMONAFHm9/Y86u9fGzFr9zwRUr/le973PDi0HrDGUfg8XhZ+ehHF+DyFeN1EXDj5PKzaPA+nq/k80zyc2fEe+jz6nvujPJL6PCEBW26HBfs8SGO6ONJ4+zxvxRkDHez7PJYnec1nX/w8vYnYl7LS/Dzk6zdi/UX9PAtOlyxIuf08MrD29pIs/jxZElbB3Z/+PIB0tYsoE/88p9YUVnOG/zzOOHQgvvn/PHrNaXWENgA9jX6Z2ilwAD2hL8k/z6kAPbTg+KR04wA9yJEoChodAT3bQlhvv1YBPe/zh9RkkAE9AqW3OQrKAT0WVueerwMCPSkHFwRVPQI9PbhGafp2Aj1QaXbOn7ACPWQapjNF6gI9d8vVmOojAz2LfAX+j10DPZ4tNWM1lwM9sd5kyNrQAz3Fj5QtgAoEPdhAxJIlRAQ97PHz98p9BD3/oiNdcLcEPRNUU8IV8QQ9JgWDJ7sqBT06trKMYGQFPU1n4vEFngU9YRgSV6vXBT10yUG8UBEGPYh6cSH2SgY9myuhhpuEBj0=",
          "dtype": "f8"
         },
         "y": {
          "bdata": "Xa/iFB+M6jbPmi80M7GPOd1mIeiHGbo6Pwh+VH0lbTsEVAwatVPmO2r4c9i/LEE8AIpbblYuhjwUIJw6gdi/PLOQ2shzEe48KlC+w9PKFD35OD2PEaU2PZVq44Jmb1Q932FBi5u1bz2FMDrduL2FPfcCCKOL55o9LsNfpDeKrj0O3VyvExvAPTwX4A6m5c89EtWk5aHn3T01iaUmvbrqPQZjRaSV6PY9gMaOsNfqAj4XxQjc6TkOPlWBrZmDcRc+eXLzVYa0IT4twSS8qBsqPui3+cOu1TI+8m9kPVWkOj5qQ8DmOIFCPrOfSTWGSEk+XKA+yuwCUT6xtE1io5JWPhs+lF4VkV0+YOgsLgYiYz6ykMR47XxoPkr5lIngBG8+/9k7nhF1cz5IGPSl4jB4PoxIgn3i0n0+VvHmF0s9gj6Ou+xTCiWGPuqj+gAIs4o+lmoKI+76jz5oe8Hn3AiTPs4onAnehpY+JvA32EyDmj4EFevhpAqfPpAAE9gEFaI+xYSHjKL3pD7PL6mOYjSoPkztXq3M0qs+4SUgDrjarz4WxfPDJCqyPlWIo+r4o7Q+gFrY0DVftz5AjPO6XGC6Pq8MssMRrL0+k7KWW42jwD7ru3PxLpvCPpvCQ25wv8Q++u9roOMSxz5WKz62KJjJPjn+4JftUcw+kOZoP+1Czz7PN96H9zbRPrWlaBXj6tI+QeviY6i+1D7i/qfEu7PWPtQ6eGqWy9g+wsinFbYH2z737w/BnGndPmT77E/Q8t8+mCVnHm1S4T4iH92ko8DiPgz60ZjTROQ+JrimLcbf5T4NuNbGRZLnPtac9tIdXek+6uyHpxpB6z5W1ahdCT/tPmlDpq+3V+8+57S66/nF8D5/XAw3Ru7xPv+v+SUoJfM+YcMGNQdr9D5hUyXiSsD1PqRTSZ5aJfc+0tx2v52a+D6UKElzeyD6PkEE8rFat/s+1OGwMaJf/T55dcBauBn/PoPN3J0BcwA/ggc1P3RiAT9KsI6uZlsCP2ktK0wLXgM/j4N7NpRqBD9gpmpFM4EFP5gN3QUaogY/m3xktXnNBz8=",
          "dtype": "f8"
         }
        }
       ],
       "layout": {
        "autosize": true,
        "height": 540,
        "legend": {
         "x": 0.65,
         "y": 0.98
        },
        "template": {
         "data": {
          "bar": [
           {
            "error_x": {
             "color": "#2a3f5f"
            },
            "error_y": {
             "color": "#2a3f5f"
            },
            "marker": {
             "line": {
              "color": "#E5ECF6",
              "width": 0.5
             },
             "pattern": {
              "fillmode": "overlay",
              "size": 10,
              "solidity": 0.2
             }
            },
            "type": "bar"
           }
          ],
          "barpolar": [
           {
            "marker": {
             "line": {
              "color": "#E5ECF6",
              "width": 0.5
             },
             "pattern": {
              "fillmode": "overlay",
              "size": 10,
              "solidity": 0.2
             }
            },
            "type": "barpolar"
           }
          ],
          "carpet": [
           {
            "aaxis": {
             "endlinecolor": "#2a3f5f",
             "gridcolor": "white",
             "linecolor": "white",
             "minorgridcolor": "white",
             "startlinecolor": "#2a3f5f"
            },
            "baxis": {
             "endlinecolor": "#2a3f5f",
             "gridcolor": "white",
             "linecolor": "white",
             "minorgridcolor": "white",
             "startlinecolor": "#2a3f5f"
            },
            "type": "carpet"
           }
          ],
          "choropleth": [
           {
            "colorbar": {
             "outlinewidth": 0,
             "ticks": ""
            },
            "type": "choropleth"
           }
          ],
          "contour": [
           {
            "colorbar": {
             "outlinewidth": 0,
             "ticks": ""
            },
            "colorscale": [
             [
              0,
              "#0d0887"
             ],
             [
              0.1111111111111111,
              "#46039f"
             ],
             [
              0.2222222222222222,
              "#7201a8"
             ],
             [
              0.3333333333333333,
              "#9c179e"
             ],
             [
              0.4444444444444444,
              "#bd3786"
             ],
             [
              0.5555555555555556,
              "#d8576b"
             ],
             [
              0.6666666666666666,
              "#ed7953"
             ],
             [
              0.7777777777777778,
              "#fb9f3a"
             ],
             [
              0.8888888888888888,
              "#fdca26"
             ],
             [
              1,
              "#f0f921"
             ]
            ],
            "type": "contour"
           }
          ],
          "contourcarpet": [
           {
            "colorbar": {
             "outlinewidth": 0,
             "ticks": ""
            },
            "type": "contourcarpet"
           }
          ],
          "heatmap": [
           {
            "colorbar": {
             "outlinewidth": 0,
             "ticks": ""
            },
            "colorscale": [
             [
              0,
              "#0d0887"
             ],
             [
              0.1111111111111111,
              "#46039f"
             ],
             [
              0.2222222222222222,
              "#7201a8"
             ],
             [
              0.3333333333333333,
              "#9c179e"
             ],
             [
              0.4444444444444444,
              "#bd3786"
             ],
             [
              0.5555555555555556,
              "#d8576b"
             ],
             [
              0.6666666666666666,
              "#ed7953"
             ],
             [
              0.7777777777777778,
              "#fb9f3a"
             ],
             [
              0.8888888888888888,
              "#fdca26"
             ],
             [
              1,
              "#f0f921"
             ]
            ],
            "type": "heatmap"
           }
          ],
          "histogram": [
           {
            "marker": {
             "pattern": {
              "fillmode": "overlay",
              "size": 10,
              "solidity": 0.2
             }
            },
            "type": "histogram"
           }
          ],
          "histogram2d": [
           {
            "colorbar": {
             "outlinewidth": 0,
             "ticks": ""
            },
            "colorscale": [
             [
              0,
              "#0d0887"
             ],
             [
              0.1111111111111111,
              "#46039f"
             ],
             [
              0.2222222222222222,
              "#7201a8"
             ],
             [
              0.3333333333333333,
              "#9c179e"
             ],
             [
              0.4444444444444444,
              "#bd3786"
             ],
             [
              0.5555555555555556,
              "#d8576b"
             ],
             [
              0.6666666666666666,
              "#ed7953"
             ],
             [
              0.7777777777777778,
              "#fb9f3a"
             ],
             [
              0.8888888888888888,
              "#fdca26"
             ],
             [
              1,
              "#f0f921"
             ]
            ],
            "type": "histogram2d"
           }
          ],
          "histogram2dcontour": [
           {
            "colorbar": {
             "outlinewidth": 0,
             "ticks": ""
            },
            "colorscale": [
             [
              0,
              "#0d0887"
             ],
             [
              0.1111111111111111,
              "#46039f"
             ],
             [
              0.2222222222222222,
              "#7201a8"
             ],
             [
              0.3333333333333333,
              "#9c179e"
             ],
             [
              0.4444444444444444,
              "#bd3786"
             ],
             [
              0.5555555555555556,
              "#d8576b"
             ],
             [
              0.6666666666666666,
              "#ed7953"
             ],
             [
              0.7777777777777778,
              "#fb9f3a"
             ],
             [
              0.8888888888888888,
              "#fdca26"
             ],
             [
              1,
              "#f0f921"
             ]
            ],
            "type": "histogram2dcontour"
           }
          ],
          "mesh3d": [
           {
            "colorbar": {
             "outlinewidth": 0,
             "ticks": ""
            },
            "type": "mesh3d"
           }
          ],
          "parcoords": [
           {
            "line": {
             "colorbar": {
              "outlinewidth": 0,
              "ticks": ""
             }
            },
            "type": "parcoords"
           }
          ],
          "pie": [
           {
            "automargin": true,
            "type": "pie"
           }
          ],
          "scatter": [
           {
            "fillpattern": {
             "fillmode": "overlay",
             "size": 10,
             "solidity": 0.2
            },
            "type": "scatter"
           }
          ],
          "scatter3d": [
           {
            "line": {
             "colorbar": {
              "outlinewidth": 0,
              "ticks": ""
             }
            },
            "marker": {
             "colorbar": {
              "outlinewidth": 0,
              "ticks": ""
             }
            },
            "type": "scatter3d"
           }
          ],
          "scattercarpet": [
           {
            "marker": {
             "colorbar": {
              "outlinewidth": 0,
              "ticks": ""
             }
            },
            "type": "scattercarpet"
           }
          ],
          "scattergeo": [
           {
            "marker": {
             "colorbar": {
              "outlinewidth": 0,
              "ticks": ""
             }
            },
            "type": "scattergeo"
           }
          ],
          "scattergl": [
           {
            "marker": {
             "colorbar": {
              "outlinewidth": 0,
              "ticks": ""
             }
            },
            "type": "scattergl"
           }
          ],
          "scattermap": [
           {
            "marker": {
             "colorbar": {
              "outlinewidth": 0,
              "ticks": ""
             }
            },
            "type": "scattermap"
           }
          ],
          "scattermapbox": [
           {
            "marker": {
             "colorbar": {
              "outlinewidth": 0,
              "ticks": ""
             }
            },
            "type": "scattermapbox"
           }
          ],
          "scatterpolar": [
           {
            "marker": {
             "colorbar": {
              "outlinewidth": 0,
              "ticks": ""
             }
            },
            "type": "scatterpolar"
           }
          ],
          "scatterpolargl": [
           {
            "marker": {
             "colorbar": {
              "outlinewidth": 0,
              "ticks": ""
             }
            },
            "type": "scatterpolargl"
           }
          ],
          "scatterternary": [
           {
            "marker": {
             "colorbar": {
              "outlinewidth": 0,
              "ticks": ""
             }
            },
            "type": "scatterternary"
           }
          ],
          "surface": [
           {
            "colorbar": {
             "outlinewidth": 0,
             "ticks": ""
            },
            "colorscale": [
             [
              0,
              "#0d0887"
             ],
             [
              0.1111111111111111,
              "#46039f"
             ],
             [
              0.2222222222222222,
              "#7201a8"
             ],
             [
              0.3333333333333333,
              "#9c179e"
             ],
             [
              0.4444444444444444,
              "#bd3786"
             ],
             [
              0.5555555555555556,
              "#d8576b"
             ],
             [
              0.6666666666666666,
              "#ed7953"
             ],
             [
              0.7777777777777778,
              "#fb9f3a"
             ],
             [
              0.8888888888888888,
              "#fdca26"
             ],
             [
              1,
              "#f0f921"
             ]
            ],
            "type": "surface"
           }
          ],
          "table": [
           {
            "cells": {
             "fill": {
              "color": "#EBF0F8"
             },
             "line": {
              "color": "white"
             }
            },
            "header": {
             "fill": {
              "color": "#C8D4E3"
             },
             "line": {
              "color": "white"
             }
            },
            "type": "table"
           }
          ]
         },
         "layout": {
          "annotationdefaults": {
           "arrowcolor": "#2a3f5f",
           "arrowhead": 0,
           "arrowwidth": 1
          },
          "autotypenumbers": "strict",
          "coloraxis": {
           "colorbar": {
            "outlinewidth": 0,
            "ticks": ""
           }
          },
          "colorscale": {
           "diverging": [
            [
             0,
             "#8e0152"
            ],
            [
             0.1,
             "#c51b7d"
            ],
            [
             0.2,
             "#de77ae"
            ],
            [
             0.3,
             "#f1b6da"
            ],
            [
             0.4,
             "#fde0ef"
            ],
            [
             0.5,
             "#f7f7f7"
            ],
            [
             0.6,
             "#e6f5d0"
            ],
            [
             0.7,
             "#b8e186"
            ],
            [
             0.8,
             "#7fbc41"
            ],
            [
             0.9,
             "#4d9221"
            ],
            [
             1,
             "#276419"
            ]
           ],
           "sequential": [
            [
             0,
             "#0d0887"
            ],
            [
             0.1111111111111111,
             "#46039f"
            ],
            [
             0.2222222222222222,
             "#7201a8"
            ],
            [
             0.3333333333333333,
             "#9c179e"
            ],
            [
             0.4444444444444444,
             "#bd3786"
            ],
            [
             0.5555555555555556,
             "#d8576b"
            ],
            [
             0.6666666666666666,
             "#ed7953"
            ],
            [
             0.7777777777777778,
             "#fb9f3a"
            ],
            [
             0.8888888888888888,
             "#fdca26"
            ],
            [
             1,
             "#f0f921"
            ]
           ],
           "sequentialminus": [
            [
             0,
             "#0d0887"
            ],
            [
             0.1111111111111111,
             "#46039f"
            ],
            [
             0.2222222222222222,
             "#7201a8"
            ],
            [
             0.3333333333333333,
             "#9c179e"
            ],
            [
             0.4444444444444444,
             "#bd3786"
            ],
            [
             0.5555555555555556,
             "#d8576b"
            ],
            [
             0.6666666666666666,
             "#ed7953"
            ],
            [
             0.7777777777777778,
             "#fb9f3a"
            ],
            [
             0.8888888888888888,
             "#fdca26"
            ],
            [
             1,
             "#f0f921"
            ]
           ]
          },
          "colorway": [
           "#636efa",
           "#EF553B",
           "#00cc96",
           "#ab63fa",
           "#FFA15A",
           "#19d3f3",
           "#FF6692",
           "#B6E880",
           "#FF97FF",
           "#FECB52"
          ],
          "font": {
           "color": "#2a3f5f"
          },
          "geo": {
           "bgcolor": "white",
           "lakecolor": "white",
           "landcolor": "#E5ECF6",
           "showlakes": true,
           "showland": true,
           "subunitcolor": "white"
          },
          "hoverlabel": {
           "align": "left"
          },
          "hovermode": "closest",
          "mapbox": {
           "style": "light"
          },
          "paper_bgcolor": "white",
          "plot_bgcolor": "#E5ECF6",
          "polar": {
           "angularaxis": {
            "gridcolor": "white",
            "linecolor": "white",
            "ticks": ""
           },
           "bgcolor": "#E5ECF6",
           "radialaxis": {
            "gridcolor": "white",
            "linecolor": "white",
            "ticks": ""
           }
          },
          "scene": {
           "xaxis": {
            "backgroundcolor": "#E5ECF6",
            "gridcolor": "white",
            "gridwidth": 2,
            "linecolor": "white",
            "showbackground": true,
            "ticks": "",
            "zerolinecolor": "white"
           },
           "yaxis": {
            "backgroundcolor": "#E5ECF6",
            "gridcolor": "white",
            "gridwidth": 2,
            "linecolor": "white",
            "showbackground": true,
            "ticks": "",
            "zerolinecolor": "white"
           },
           "zaxis": {
            "backgroundcolor": "#E5ECF6",
            "gridcolor": "white",
            "gridwidth": 2,
            "linecolor": "white",
            "showbackground": true,
            "ticks": "",
            "zerolinecolor": "white"
           }
          },
          "shapedefaults": {
           "line": {
            "color": "#2a3f5f"
           }
          },
          "ternary": {
           "aaxis": {
            "gridcolor": "white",
            "linecolor": "white",
            "ticks": ""
           },
           "baxis": {
            "gridcolor": "white",
            "linecolor": "white",
            "ticks": ""
           },
           "bgcolor": "#E5ECF6",
           "caxis": {
            "gridcolor": "white",
            "linecolor": "white",
            "ticks": ""
           }
          },
          "title": {
           "x": 0.05
          },
          "xaxis": {
           "automargin": true,
           "gridcolor": "white",
           "linecolor": "white",
           "ticks": "",
           "title": {
            "standoff": 15
           },
           "zerolinecolor": "white",
           "zerolinewidth": 2
          },
          "yaxis": {
           "automargin": true,
           "gridcolor": "white",
           "linecolor": "white",
           "ticks": "",
           "title": {
            "standoff": 15
           },
           "zerolinecolor": "white",
           "zerolinewidth": 2
          }
         }
        },
        "title": {
         "text": ""
        },
        "width": 960,
        "xaxis": {
         "title": {
          "text": ""
         }
        },
        "yaxis": {
         "title": {
          "text": ""
         }
        }
       }
      }
     },
     "metadata": {},
     "output_type": "display_data"
    }
   ],
   "source": [
    "fig = go.Figure()\n",
    "\n",
    "fig.add_trace(go.Scatter(\n",
    "        x=energy,\n",
    "        y=exp_2,\n",
    "        mode='markers',\n",
    "        name=f\"\"\n",
    "))\n",
    "\n",
    "fig.update_layout(\n",
    "        title=f\"\",\n",
    "        xaxis_title=\"\",\n",
    "        yaxis_title=\"\",\n",
    "        legend=dict(x=0.65, y=0.98)\n",
    ")\n",
    "\n",
    "plot(fig)"
   ]
  },
  {
   "cell_type": "code",
   "execution_count": 72,
   "id": "7a8fa3a1",
   "metadata": {},
   "outputs": [
    {
     "data": {
      "application/vnd.plotly.v1+json": {
       "config": {
        "plotlyServerURL": "https://plot.ly"
       },
       "data": [
        {
         "mode": "markers",
         "name": "",
         "type": "scatter",
         "x": {
          "bdata": "vInYl7LSnDy8idiXstKsPE5n4vEFnrU8vYnYl7LSvDwWVueerwPCPE5n4vEFnsU8hnjdRFw4yTy8idiXstLMPHrNaXWENtA8Flbnnq8D0jyy3mTI2tDTPE5n4vEFntU86u9fGzFr1zyGeN1EXDjZPCEBW26HBds8vYnYl7LS3DxZElbB3Z/ePHrNaXWENuA8yJEoChod4TwWVueerwPiPGQapjNF6uI8st5kyNrQ4zwAoyNdcLfkPE5n4vEFnuU8nCuhhpuE5jzq718bMWvnPDi0HrDGUeg8hXjdRFw46TzTPJzZ8R7qPCEBW26HBes8b8UZAx3s6zy9idiXstLsPAtOlyxIue08WRJWwd2f7jyn1hRWc4bvPHrNaXWENvA8oS/JP8+p8DzIkSgKGh3xPO/zh9RkkPE8Flbnnq8D8jw9uEZp+nbyPGQapjNF6vI8i3wF/o9d8zyy3mTI2tDzPNlAxJIlRPQ8AKMjXXC39DwnBYMnuyr1PE5n4vEFnvU8dclBvFAR9jycK6GGm4T2PMONAFHm9/Y86u9fGzFr9zwRUr/le973PDi0HrDGUfg8XhZ+ehHF+DyFeN1EXDj5PKzaPA+nq/k80zyc2fEe+jz6nvujPJL6PCEBW26HBfs8SGO6ONJ4+zxvxRkDHez7PJYnec1nX/w8vYnYl7LS/Dzk6zdi/UX9PAtOlyxIuf08MrD29pIs/jxZElbB3Z/+PIB0tYsoE/88p9YUVnOG/zzOOHQgvvn/PHrNaXWENgA9jX6Z2ilwAD2hL8k/z6kAPbTg+KR04wA9yJEoChodAT3bQlhvv1YBPe/zh9RkkAE9AqW3OQrKAT0WVueerwMCPSkHFwRVPQI9PbhGafp2Aj1QaXbOn7ACPWQapjNF6gI9d8vVmOojAz2LfAX+j10DPZ4tNWM1lwM9sd5kyNrQAz3Fj5QtgAoEPdhAxJIlRAQ97PHz98p9BD3/oiNdcLcEPRNUU8IV8QQ9JgWDJ7sqBT06trKMYGQFPU1n4vEFngU9YRgSV6vXBT10yUG8UBEGPYh6cSH2SgY9myuhhpuEBj0=",
          "dtype": "f8"
         },
         "y": {
          "bdata": "4hkPzUsDwTv53Es5t9RZPlmbFx4yDns/Tgjk/qQ2I0Av/ULYC7iSQNHBtH9IUOJASR4bd8YUHkG0/bWXz3ZLQVWrPkJ1fXBBcnCKb2IBjUE/SNXgoxakQbogKepfDrdBbSSkCTnAxkG4w+ki0dbTQY3Y91p+Od9BVvIprBGK5kER1TzCQzzuQZZic6MeCvNB56Nb3OSz9kE11zc85s75QZ5kI7W3IfxBE+0bYaGL/UEKwVAhMgX+QecJYmjwnP1B/Nl6LbZx/EHOT+MhPaz6Qb2zClgLefhBnSuPNX8D9kHXUWceTnLzQVRFpmh25fBBeyZaCOHq7EEZz41JpGboQYGMWtIjU+RBB//4nkW64EGAvFiKuDrbQTMZkR8O79VBz6iyhpl/0UE6ZPBvYqvLQRCPnZlNscVBfYjgHHrfwEEphvOw6w26QQogivHn+bNBhJPb5nturkE0QgayXwmnQXuYGeNJVqFBxgqDq5rzmUHxapI3bVKTQbbbnNI4oYxBGTBV/ncchUHFLWdv3f5+QbBUs3JVqHZBbSVwV+p+cEGN6bdoWe1nQUd2+W8mSmFBcupiGUfmWEFXZJ3Lmt5RQck5AbkfkUlBBGpNLO07QkHOFNt1yO45QaZazlanYzJBScTJ2pYCKkGfCzfc31giQVFCgcHQ0RlBJjHQHt4fEkEBGBOTKmMJQbur+D7AvQFB2svf90u++EDOkO/HJzjxQCxcsZZg6+dAJoglRvCU4ECsvcFLuPLWQEHcfQLjs89AwzaKa3jcxUDARczamxm+QGfPCzlesLRA75pkFJplrECMASSvkXWjQADvX5aBoZpA5x8HDYcykkAnIwyL6dWIQLkubDDt7IBAMH7DWEsKd0D1Gok5TVNvQB222i//RGVAOmhsHpbZXEDoL1k9Q4tTQMHtsjtfc0pAAgg2zUrhQUC6FOQl5yU4QDoHuvZSSjBAMKhq4yD1JUCvhQePdZEdQJA6/qXX4xNA0B3Uejq8CkByRY8Q1PMBQCzp5G7XFvg/TmUEXgEm8D9ZSDytD6LlPxFAElEi9dw/oKW3HLhd0z8=",
          "dtype": "f8"
         }
        }
       ],
       "layout": {
        "autosize": true,
        "height": 540,
        "legend": {
         "x": 0.65,
         "y": 0.98
        },
        "template": {
         "data": {
          "bar": [
           {
            "error_x": {
             "color": "#2a3f5f"
            },
            "error_y": {
             "color": "#2a3f5f"
            },
            "marker": {
             "line": {
              "color": "#E5ECF6",
              "width": 0.5
             },
             "pattern": {
              "fillmode": "overlay",
              "size": 10,
              "solidity": 0.2
             }
            },
            "type": "bar"
           }
          ],
          "barpolar": [
           {
            "marker": {
             "line": {
              "color": "#E5ECF6",
              "width": 0.5
             },
             "pattern": {
              "fillmode": "overlay",
              "size": 10,
              "solidity": 0.2
             }
            },
            "type": "barpolar"
           }
          ],
          "carpet": [
           {
            "aaxis": {
             "endlinecolor": "#2a3f5f",
             "gridcolor": "white",
             "linecolor": "white",
             "minorgridcolor": "white",
             "startlinecolor": "#2a3f5f"
            },
            "baxis": {
             "endlinecolor": "#2a3f5f",
             "gridcolor": "white",
             "linecolor": "white",
             "minorgridcolor": "white",
             "startlinecolor": "#2a3f5f"
            },
            "type": "carpet"
           }
          ],
          "choropleth": [
           {
            "colorbar": {
             "outlinewidth": 0,
             "ticks": ""
            },
            "type": "choropleth"
           }
          ],
          "contour": [
           {
            "colorbar": {
             "outlinewidth": 0,
             "ticks": ""
            },
            "colorscale": [
             [
              0,
              "#0d0887"
             ],
             [
              0.1111111111111111,
              "#46039f"
             ],
             [
              0.2222222222222222,
              "#7201a8"
             ],
             [
              0.3333333333333333,
              "#9c179e"
             ],
             [
              0.4444444444444444,
              "#bd3786"
             ],
             [
              0.5555555555555556,
              "#d8576b"
             ],
             [
              0.6666666666666666,
              "#ed7953"
             ],
             [
              0.7777777777777778,
              "#fb9f3a"
             ],
             [
              0.8888888888888888,
              "#fdca26"
             ],
             [
              1,
              "#f0f921"
             ]
            ],
            "type": "contour"
           }
          ],
          "contourcarpet": [
           {
            "colorbar": {
             "outlinewidth": 0,
             "ticks": ""
            },
            "type": "contourcarpet"
           }
          ],
          "heatmap": [
           {
            "colorbar": {
             "outlinewidth": 0,
             "ticks": ""
            },
            "colorscale": [
             [
              0,
              "#0d0887"
             ],
             [
              0.1111111111111111,
              "#46039f"
             ],
             [
              0.2222222222222222,
              "#7201a8"
             ],
             [
              0.3333333333333333,
              "#9c179e"
             ],
             [
              0.4444444444444444,
              "#bd3786"
             ],
             [
              0.5555555555555556,
              "#d8576b"
             ],
             [
              0.6666666666666666,
              "#ed7953"
             ],
             [
              0.7777777777777778,
              "#fb9f3a"
             ],
             [
              0.8888888888888888,
              "#fdca26"
             ],
             [
              1,
              "#f0f921"
             ]
            ],
            "type": "heatmap"
           }
          ],
          "histogram": [
           {
            "marker": {
             "pattern": {
              "fillmode": "overlay",
              "size": 10,
              "solidity": 0.2
             }
            },
            "type": "histogram"
           }
          ],
          "histogram2d": [
           {
            "colorbar": {
             "outlinewidth": 0,
             "ticks": ""
            },
            "colorscale": [
             [
              0,
              "#0d0887"
             ],
             [
              0.1111111111111111,
              "#46039f"
             ],
             [
              0.2222222222222222,
              "#7201a8"
             ],
             [
              0.3333333333333333,
              "#9c179e"
             ],
             [
              0.4444444444444444,
              "#bd3786"
             ],
             [
              0.5555555555555556,
              "#d8576b"
             ],
             [
              0.6666666666666666,
              "#ed7953"
             ],
             [
              0.7777777777777778,
              "#fb9f3a"
             ],
             [
              0.8888888888888888,
              "#fdca26"
             ],
             [
              1,
              "#f0f921"
             ]
            ],
            "type": "histogram2d"
           }
          ],
          "histogram2dcontour": [
           {
            "colorbar": {
             "outlinewidth": 0,
             "ticks": ""
            },
            "colorscale": [
             [
              0,
              "#0d0887"
             ],
             [
              0.1111111111111111,
              "#46039f"
             ],
             [
              0.2222222222222222,
              "#7201a8"
             ],
             [
              0.3333333333333333,
              "#9c179e"
             ],
             [
              0.4444444444444444,
              "#bd3786"
             ],
             [
              0.5555555555555556,
              "#d8576b"
             ],
             [
              0.6666666666666666,
              "#ed7953"
             ],
             [
              0.7777777777777778,
              "#fb9f3a"
             ],
             [
              0.8888888888888888,
              "#fdca26"
             ],
             [
              1,
              "#f0f921"
             ]
            ],
            "type": "histogram2dcontour"
           }
          ],
          "mesh3d": [
           {
            "colorbar": {
             "outlinewidth": 0,
             "ticks": ""
            },
            "type": "mesh3d"
           }
          ],
          "parcoords": [
           {
            "line": {
             "colorbar": {
              "outlinewidth": 0,
              "ticks": ""
             }
            },
            "type": "parcoords"
           }
          ],
          "pie": [
           {
            "automargin": true,
            "type": "pie"
           }
          ],
          "scatter": [
           {
            "fillpattern": {
             "fillmode": "overlay",
             "size": 10,
             "solidity": 0.2
            },
            "type": "scatter"
           }
          ],
          "scatter3d": [
           {
            "line": {
             "colorbar": {
              "outlinewidth": 0,
              "ticks": ""
             }
            },
            "marker": {
             "colorbar": {
              "outlinewidth": 0,
              "ticks": ""
             }
            },
            "type": "scatter3d"
           }
          ],
          "scattercarpet": [
           {
            "marker": {
             "colorbar": {
              "outlinewidth": 0,
              "ticks": ""
             }
            },
            "type": "scattercarpet"
           }
          ],
          "scattergeo": [
           {
            "marker": {
             "colorbar": {
              "outlinewidth": 0,
              "ticks": ""
             }
            },
            "type": "scattergeo"
           }
          ],
          "scattergl": [
           {
            "marker": {
             "colorbar": {
              "outlinewidth": 0,
              "ticks": ""
             }
            },
            "type": "scattergl"
           }
          ],
          "scattermap": [
           {
            "marker": {
             "colorbar": {
              "outlinewidth": 0,
              "ticks": ""
             }
            },
            "type": "scattermap"
           }
          ],
          "scattermapbox": [
           {
            "marker": {
             "colorbar": {
              "outlinewidth": 0,
              "ticks": ""
             }
            },
            "type": "scattermapbox"
           }
          ],
          "scatterpolar": [
           {
            "marker": {
             "colorbar": {
              "outlinewidth": 0,
              "ticks": ""
             }
            },
            "type": "scatterpolar"
           }
          ],
          "scatterpolargl": [
           {
            "marker": {
             "colorbar": {
              "outlinewidth": 0,
              "ticks": ""
             }
            },
            "type": "scatterpolargl"
           }
          ],
          "scatterternary": [
           {
            "marker": {
             "colorbar": {
              "outlinewidth": 0,
              "ticks": ""
             }
            },
            "type": "scatterternary"
           }
          ],
          "surface": [
           {
            "colorbar": {
             "outlinewidth": 0,
             "ticks": ""
            },
            "colorscale": [
             [
              0,
              "#0d0887"
             ],
             [
              0.1111111111111111,
              "#46039f"
             ],
             [
              0.2222222222222222,
              "#7201a8"
             ],
             [
              0.3333333333333333,
              "#9c179e"
             ],
             [
              0.4444444444444444,
              "#bd3786"
             ],
             [
              0.5555555555555556,
              "#d8576b"
             ],
             [
              0.6666666666666666,
              "#ed7953"
             ],
             [
              0.7777777777777778,
              "#fb9f3a"
             ],
             [
              0.8888888888888888,
              "#fdca26"
             ],
             [
              1,
              "#f0f921"
             ]
            ],
            "type": "surface"
           }
          ],
          "table": [
           {
            "cells": {
             "fill": {
              "color": "#EBF0F8"
             },
             "line": {
              "color": "white"
             }
            },
            "header": {
             "fill": {
              "color": "#C8D4E3"
             },
             "line": {
              "color": "white"
             }
            },
            "type": "table"
           }
          ]
         },
         "layout": {
          "annotationdefaults": {
           "arrowcolor": "#2a3f5f",
           "arrowhead": 0,
           "arrowwidth": 1
          },
          "autotypenumbers": "strict",
          "coloraxis": {
           "colorbar": {
            "outlinewidth": 0,
            "ticks": ""
           }
          },
          "colorscale": {
           "diverging": [
            [
             0,
             "#8e0152"
            ],
            [
             0.1,
             "#c51b7d"
            ],
            [
             0.2,
             "#de77ae"
            ],
            [
             0.3,
             "#f1b6da"
            ],
            [
             0.4,
             "#fde0ef"
            ],
            [
             0.5,
             "#f7f7f7"
            ],
            [
             0.6,
             "#e6f5d0"
            ],
            [
             0.7,
             "#b8e186"
            ],
            [
             0.8,
             "#7fbc41"
            ],
            [
             0.9,
             "#4d9221"
            ],
            [
             1,
             "#276419"
            ]
           ],
           "sequential": [
            [
             0,
             "#0d0887"
            ],
            [
             0.1111111111111111,
             "#46039f"
            ],
            [
             0.2222222222222222,
             "#7201a8"
            ],
            [
             0.3333333333333333,
             "#9c179e"
            ],
            [
             0.4444444444444444,
             "#bd3786"
            ],
            [
             0.5555555555555556,
             "#d8576b"
            ],
            [
             0.6666666666666666,
             "#ed7953"
            ],
            [
             0.7777777777777778,
             "#fb9f3a"
            ],
            [
             0.8888888888888888,
             "#fdca26"
            ],
            [
             1,
             "#f0f921"
            ]
           ],
           "sequentialminus": [
            [
             0,
             "#0d0887"
            ],
            [
             0.1111111111111111,
             "#46039f"
            ],
            [
             0.2222222222222222,
             "#7201a8"
            ],
            [
             0.3333333333333333,
             "#9c179e"
            ],
            [
             0.4444444444444444,
             "#bd3786"
            ],
            [
             0.5555555555555556,
             "#d8576b"
            ],
            [
             0.6666666666666666,
             "#ed7953"
            ],
            [
             0.7777777777777778,
             "#fb9f3a"
            ],
            [
             0.8888888888888888,
             "#fdca26"
            ],
            [
             1,
             "#f0f921"
            ]
           ]
          },
          "colorway": [
           "#636efa",
           "#EF553B",
           "#00cc96",
           "#ab63fa",
           "#FFA15A",
           "#19d3f3",
           "#FF6692",
           "#B6E880",
           "#FF97FF",
           "#FECB52"
          ],
          "font": {
           "color": "#2a3f5f"
          },
          "geo": {
           "bgcolor": "white",
           "lakecolor": "white",
           "landcolor": "#E5ECF6",
           "showlakes": true,
           "showland": true,
           "subunitcolor": "white"
          },
          "hoverlabel": {
           "align": "left"
          },
          "hovermode": "closest",
          "mapbox": {
           "style": "light"
          },
          "paper_bgcolor": "white",
          "plot_bgcolor": "#E5ECF6",
          "polar": {
           "angularaxis": {
            "gridcolor": "white",
            "linecolor": "white",
            "ticks": ""
           },
           "bgcolor": "#E5ECF6",
           "radialaxis": {
            "gridcolor": "white",
            "linecolor": "white",
            "ticks": ""
           }
          },
          "scene": {
           "xaxis": {
            "backgroundcolor": "#E5ECF6",
            "gridcolor": "white",
            "gridwidth": 2,
            "linecolor": "white",
            "showbackground": true,
            "ticks": "",
            "zerolinecolor": "white"
           },
           "yaxis": {
            "backgroundcolor": "#E5ECF6",
            "gridcolor": "white",
            "gridwidth": 2,
            "linecolor": "white",
            "showbackground": true,
            "ticks": "",
            "zerolinecolor": "white"
           },
           "zaxis": {
            "backgroundcolor": "#E5ECF6",
            "gridcolor": "white",
            "gridwidth": 2,
            "linecolor": "white",
            "showbackground": true,
            "ticks": "",
            "zerolinecolor": "white"
           }
          },
          "shapedefaults": {
           "line": {
            "color": "#2a3f5f"
           }
          },
          "ternary": {
           "aaxis": {
            "gridcolor": "white",
            "linecolor": "white",
            "ticks": ""
           },
           "baxis": {
            "gridcolor": "white",
            "linecolor": "white",
            "ticks": ""
           },
           "bgcolor": "#E5ECF6",
           "caxis": {
            "gridcolor": "white",
            "linecolor": "white",
            "ticks": ""
           }
          },
          "title": {
           "x": 0.05
          },
          "xaxis": {
           "automargin": true,
           "gridcolor": "white",
           "linecolor": "white",
           "ticks": "",
           "title": {
            "standoff": 15
           },
           "zerolinecolor": "white",
           "zerolinewidth": 2
          },
          "yaxis": {
           "automargin": true,
           "gridcolor": "white",
           "linecolor": "white",
           "ticks": "",
           "title": {
            "standoff": 15
           },
           "zerolinecolor": "white",
           "zerolinewidth": 2
          }
         }
        },
        "title": {
         "text": ""
        },
        "width": 960,
        "xaxis": {
         "title": {
          "text": ""
         }
        },
        "yaxis": {
         "title": {
          "text": ""
         }
        }
       }
      }
     },
     "metadata": {},
     "output_type": "display_data"
    }
   ],
   "source": [
    "fig = go.Figure()\n",
    "\n",
    "fig.add_trace(go.Scatter(\n",
    "        x=energy,\n",
    "        y=fusion_probability,\n",
    "        mode='markers',\n",
    "        name=f\"\"\n",
    "))\n",
    "\n",
    "fig.update_layout(\n",
    "        title=f\"\",\n",
    "        xaxis_title=\"\",\n",
    "        yaxis_title=\"\",\n",
    "        legend=dict(x=0.65, y=0.98)\n",
    ")\n",
    "\n",
    "plot(fig)"
   ]
  }
 ],
 "metadata": {
  "kernelspec": {
   "display_name": "Python 3",
   "language": "python",
   "name": "python3"
  },
  "language_info": {
   "codemirror_mode": {
    "name": "ipython",
    "version": 3
   },
   "file_extension": ".py",
   "mimetype": "text/x-python",
   "name": "python",
   "nbconvert_exporter": "python",
   "pygments_lexer": "ipython3",
   "version": "3.11.9"
  }
 },
 "nbformat": 4,
 "nbformat_minor": 5
}
