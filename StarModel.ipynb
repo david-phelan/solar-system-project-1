{
 "cells": [
  {
   "cell_type": "code",
   "execution_count": 24,
   "id": "aad9d7fe",
   "metadata": {},
   "outputs": [],
   "source": [
    "import numpy as np\n",
    "import plotly.graph_objects as go\n",
    "import plotly.express as px\n",
    "from plotly.subplots import make_subplots"
   ]
  },
  {
   "cell_type": "markdown",
   "id": "c642f936",
   "metadata": {},
   "source": [
    "$P_{Fusion}(E,T) \\propto \\dfrac{1}{(kT)^{3/2}}\\ \\exp\\left(-\\dfrac{E}{kT}\\right)\\ \\exp\\left(-\\dfrac{b}{\\sqrt{E}}\\right)$  \n",
    "\\\n",
    "$T_C \\approx 1.6\\times10^7\\ \\left(\\dfrac{R_0}{R}\\right)\\left(\\dfrac{M}{M_0}\\right)$"
   ]
  },
  {
   "cell_type": "code",
   "execution_count": 25,
   "id": "fe9df0ac",
   "metadata": {},
   "outputs": [],
   "source": [
    "sun_radius = 6.957*10**8 #metres\n",
    "sun_mass = 1.989*10**30 #kg\n",
    "boltzmann = 1.380649*10**-23 #J/K\n",
    "b = 10**-6"
   ]
  },
  {
   "cell_type": "code",
   "execution_count": 26,
   "id": "1769a10a",
   "metadata": {},
   "outputs": [],
   "source": [
    "def central_temperature(star_radius, star_mass):\n",
    "\n",
    "    return 1.6*10**7 * (sun_radius/star_radius) * (star_mass/sun_mass)"
   ]
  },
  {
   "cell_type": "code",
   "execution_count": 27,
   "id": "ee9e0cf6",
   "metadata": {},
   "outputs": [],
   "source": [
    "def fusion_probability(temperature, energy):\n",
    "    T = temperature\n",
    "    k = boltzmann\n",
    "\n",
    "    return (1/((k*T)**(3/2))) * np.exp(-energy/(k*T)) * np.exp(-b/energy**(1/2))"
   ]
  },
  {
   "cell_type": "code",
   "execution_count": 28,
   "id": "c5f59691",
   "metadata": {},
   "outputs": [],
   "source": [
    "def plot(figure, figures=1):\n",
    "    figure.update_layout(\n",
    "        autosize=True,\n",
    "        width=(1920/2) * figures,\n",
    "        height=1080/2,\n",
    "    )\n",
    "    figure.show()"
   ]
  },
  {
   "cell_type": "markdown",
   "id": "b6250d3f",
   "metadata": {},
   "source": [
    "Function for finding Gamow peak areas, using numerical integartion by approximating the curve as a series of trapezoids"
   ]
  },
  {
   "cell_type": "code",
   "execution_count": 29,
   "id": "d4a00005",
   "metadata": {},
   "outputs": [],
   "source": [
    "def get_area(x, y):\n",
    "\n",
    "    x_step = x[1]-x[0] \n",
    "    return np.sum((y[:-1] + y[1:]) * 0.5 * x_step)"
   ]
  },
  {
   "cell_type": "markdown",
   "id": "f92574bb",
   "metadata": {},
   "source": [
    "Few examples to check function works as intended:  \n",
    "\n",
    "1. Integrating $x^2$ from 0 to 3: should yield ~9\n",
    "2. Integrating $2x^3$ from 0 to 2: should yield ~8\n",
    "3. Integrating $4x + 81$ from 1 to 4: should yield ~273"
   ]
  },
  {
   "cell_type": "code",
   "execution_count": 30,
   "id": "2a7c82ec",
   "metadata": {},
   "outputs": [
    {
     "name": "stdout",
     "output_type": "stream",
     "text": [
      "9.00045\n",
      "8.0008\n",
      "273.0000000000003\n"
     ]
    }
   ],
   "source": [
    "x_1 = np.linspace(0, 3, 101)\n",
    "y_1 = x_1**2\n",
    "print(get_area(x_1, y_1))\n",
    "\n",
    "x_2 = np.linspace(0, 2, 101)\n",
    "y_2 = 2*x_2**3\n",
    "print(get_area(x_2, y_2))\n",
    "\n",
    "x_3 = np.linspace(1, 4, 101)\n",
    "y_3 = 4*x_3 + 81\n",
    "print(get_area(x_3, y_3))"
   ]
  },
  {
   "cell_type": "markdown",
   "id": "5c2203ac",
   "metadata": {},
   "source": [
    "All checks passed"
   ]
  },
  {
   "cell_type": "markdown",
   "id": "106f1baa",
   "metadata": {},
   "source": [
    "Useful shorthands for initial three plots:"
   ]
  },
  {
   "cell_type": "code",
   "execution_count": 31,
   "id": "c0d5d14c",
   "metadata": {},
   "outputs": [],
   "source": [
    "energy = np.array(np.linspace(1*10**-16, 100*10**-16, 1001))\n",
    "kT = boltzmann*central_temperature(sun_radius, sun_mass)"
   ]
  },
  {
   "cell_type": "markdown",
   "id": "160f18f0",
   "metadata": {},
   "source": [
    "Plotting \"first\" exponential term $\\exp\\left(-\\dfrac{E}{kT}\\right)$"
   ]
  },
  {
   "cell_type": "code",
   "execution_count": 32,
   "id": "d1779244",
   "metadata": {},
   "outputs": [
    {
     "data": {
      "application/vnd.plotly.v1+json": {
       "config": {
        "plotlyServerURL": "https://plot.ly"
       },
       "data": [
        {
         "mode": "markers",
         "name": "",
         "type": "scatter",
         "x": {
          "bdata": "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",
          "dtype": "f8"
         },
         "y": {
          "bdata": "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",
          "dtype": "f8"
         }
        }
       ],
       "layout": {
        "autosize": true,
        "height": 540,
        "legend": {
         "x": 0.65,
         "y": 0.98
        },
        "template": {
         "data": {
          "bar": [
           {
            "error_x": {
             "color": "#2a3f5f"
            },
            "error_y": {
             "color": "#2a3f5f"
            },
            "marker": {
             "line": {
              "color": "#E5ECF6",
              "width": 0.5
             },
             "pattern": {
              "fillmode": "overlay",
              "size": 10,
              "solidity": 0.2
             }
            },
            "type": "bar"
           }
          ],
          "barpolar": [
           {
            "marker": {
             "line": {
              "color": "#E5ECF6",
              "width": 0.5
             },
             "pattern": {
              "fillmode": "overlay",
              "size": 10,
              "solidity": 0.2
             }
            },
            "type": "barpolar"
           }
          ],
          "carpet": [
           {
            "aaxis": {
             "endlinecolor": "#2a3f5f",
             "gridcolor": "white",
             "linecolor": "white",
             "minorgridcolor": "white",
             "startlinecolor": "#2a3f5f"
            },
            "baxis": {
             "endlinecolor": "#2a3f5f",
             "gridcolor": "white",
             "linecolor": "white",
             "minorgridcolor": "white",
             "startlinecolor": "#2a3f5f"
            },
            "type": "carpet"
           }
          ],
          "choropleth": [
           {
            "colorbar": {
             "outlinewidth": 0,
             "ticks": ""
            },
            "type": "choropleth"
           }
          ],
          "contour": [
           {
            "colorbar": {
             "outlinewidth": 0,
             "ticks": ""
            },
            "colorscale": [
             [
              0,
              "#0d0887"
             ],
             [
              0.1111111111111111,
              "#46039f"
             ],
             [
              0.2222222222222222,
              "#7201a8"
             ],
             [
              0.3333333333333333,
              "#9c179e"
             ],
             [
              0.4444444444444444,
              "#bd3786"
             ],
             [
              0.5555555555555556,
              "#d8576b"
             ],
             [
              0.6666666666666666,
              "#ed7953"
             ],
             [
              0.7777777777777778,
              "#fb9f3a"
             ],
             [
              0.8888888888888888,
              "#fdca26"
             ],
             [
              1,
              "#f0f921"
             ]
            ],
            "type": "contour"
           }
          ],
          "contourcarpet": [
           {
            "colorbar": {
             "outlinewidth": 0,
             "ticks": ""
            },
            "type": "contourcarpet"
           }
          ],
          "heatmap": [
           {
            "colorbar": {
             "outlinewidth": 0,
             "ticks": ""
            },
            "colorscale": [
             [
              0,
              "#0d0887"
             ],
             [
              0.1111111111111111,
              "#46039f"
             ],
             [
              0.2222222222222222,
              "#7201a8"
             ],
             [
              0.3333333333333333,
              "#9c179e"
             ],
             [
              0.4444444444444444,
              "#bd3786"
             ],
             [
              0.5555555555555556,
              "#d8576b"
             ],
             [
              0.6666666666666666,
              "#ed7953"
             ],
             [
              0.7777777777777778,
              "#fb9f3a"
             ],
             [
              0.8888888888888888,
              "#fdca26"
             ],
             [
              1,
              "#f0f921"
             ]
            ],
            "type": "heatmap"
           }
          ],
          "histogram": [
           {
            "marker": {
             "pattern": {
              "fillmode": "overlay",
              "size": 10,
              "solidity": 0.2
             }
            },
            "type": "histogram"
           }
          ],
          "histogram2d": [
           {
            "colorbar": {
             "outlinewidth": 0,
             "ticks": ""
            },
            "colorscale": [
             [
              0,
              "#0d0887"
             ],
             [
              0.1111111111111111,
              "#46039f"
             ],
             [
              0.2222222222222222,
              "#7201a8"
             ],
             [
              0.3333333333333333,
              "#9c179e"
             ],
             [
              0.4444444444444444,
              "#bd3786"
             ],
             [
              0.5555555555555556,
              "#d8576b"
             ],
             [
              0.6666666666666666,
              "#ed7953"
             ],
             [
              0.7777777777777778,
              "#fb9f3a"
             ],
             [
              0.8888888888888888,
              "#fdca26"
             ],
             [
              1,
              "#f0f921"
             ]
            ],
            "type": "histogram2d"
           }
          ],
          "histogram2dcontour": [
           {
            "colorbar": {
             "outlinewidth": 0,
             "ticks": ""
            },
            "colorscale": [
             [
              0,
              "#0d0887"
             ],
             [
              0.1111111111111111,
              "#46039f"
             ],
             [
              0.2222222222222222,
              "#7201a8"
             ],
             [
              0.3333333333333333,
              "#9c179e"
             ],
             [
              0.4444444444444444,
              "#bd3786"
             ],
             [
              0.5555555555555556,
              "#d8576b"
             ],
             [
              0.6666666666666666,
              "#ed7953"
             ],
             [
              0.7777777777777778,
              "#fb9f3a"
             ],
             [
              0.8888888888888888,
              "#fdca26"
             ],
             [
              1,
              "#f0f921"
             ]
            ],
            "type": "histogram2dcontour"
           }
          ],
          "mesh3d": [
           {
            "colorbar": {
             "outlinewidth": 0,
             "ticks": ""
            },
            "type": "mesh3d"
           }
          ],
          "parcoords": [
           {
            "line": {
             "colorbar": {
              "outlinewidth": 0,
              "ticks": ""
             }
            },
            "type": "parcoords"
           }
          ],
          "pie": [
           {
            "automargin": true,
            "type": "pie"
           }
          ],
          "scatter": [
           {
            "fillpattern": {
             "fillmode": "overlay",
             "size": 10,
             "solidity": 0.2
            },
            "type": "scatter"
           }
          ],
          "scatter3d": [
           {
            "line": {
             "colorbar": {
              "outlinewidth": 0,
              "ticks": ""
             }
            },
            "marker": {
             "colorbar": {
              "outlinewidth": 0,
              "ticks": ""
             }
            },
            "type": "scatter3d"
           }
          ],
          "scattercarpet": [
           {
            "marker": {
             "colorbar": {
              "outlinewidth": 0,
              "ticks": ""
             }
            },
            "type": "scattercarpet"
           }
          ],
          "scattergeo": [
           {
            "marker": {
             "colorbar": {
              "outlinewidth": 0,
              "ticks": ""
             }
            },
            "type": "scattergeo"
           }
          ],
          "scattergl": [
           {
            "marker": {
             "colorbar": {
              "outlinewidth": 0,
              "ticks": ""
             }
            },
            "type": "scattergl"
           }
          ],
          "scattermap": [
           {
            "marker": {
             "colorbar": {
              "outlinewidth": 0,
              "ticks": ""
             }
            },
            "type": "scattermap"
           }
          ],
          "scattermapbox": [
           {
            "marker": {
             "colorbar": {
              "outlinewidth": 0,
              "ticks": ""
             }
            },
            "type": "scattermapbox"
           }
          ],
          "scatterpolar": [
           {
            "marker": {
             "colorbar": {
              "outlinewidth": 0,
              "ticks": ""
             }
            },
            "type": "scatterpolar"
           }
          ],
          "scatterpolargl": [
           {
            "marker": {
             "colorbar": {
              "outlinewidth": 0,
              "ticks": ""
             }
            },
            "type": "scatterpolargl"
           }
          ],
          "scatterternary": [
           {
            "marker": {
             "colorbar": {
              "outlinewidth": 0,
              "ticks": ""
             }
            },
            "type": "scatterternary"
           }
          ],
          "surface": [
           {
            "colorbar": {
             "outlinewidth": 0,
             "ticks": ""
            },
            "colorscale": [
             [
              0,
              "#0d0887"
             ],
             [
              0.1111111111111111,
              "#46039f"
             ],
             [
              0.2222222222222222,
              "#7201a8"
             ],
             [
              0.3333333333333333,
              "#9c179e"
             ],
             [
              0.4444444444444444,
              "#bd3786"
             ],
             [
              0.5555555555555556,
              "#d8576b"
             ],
             [
              0.6666666666666666,
              "#ed7953"
             ],
             [
              0.7777777777777778,
              "#fb9f3a"
             ],
             [
              0.8888888888888888,
              "#fdca26"
             ],
             [
              1,
              "#f0f921"
             ]
            ],
            "type": "surface"
           }
          ],
          "table": [
           {
            "cells": {
             "fill": {
              "color": "#EBF0F8"
             },
             "line": {
              "color": "white"
             }
            },
            "header": {
             "fill": {
              "color": "#C8D4E3"
             },
             "line": {
              "color": "white"
             }
            },
            "type": "table"
           }
          ]
         },
         "layout": {
          "annotationdefaults": {
           "arrowcolor": "#2a3f5f",
           "arrowhead": 0,
           "arrowwidth": 1
          },
          "autotypenumbers": "strict",
          "coloraxis": {
           "colorbar": {
            "outlinewidth": 0,
            "ticks": ""
           }
          },
          "colorscale": {
           "diverging": [
            [
             0,
             "#8e0152"
            ],
            [
             0.1,
             "#c51b7d"
            ],
            [
             0.2,
             "#de77ae"
            ],
            [
             0.3,
             "#f1b6da"
            ],
            [
             0.4,
             "#fde0ef"
            ],
            [
             0.5,
             "#f7f7f7"
            ],
            [
             0.6,
             "#e6f5d0"
            ],
            [
             0.7,
             "#b8e186"
            ],
            [
             0.8,
             "#7fbc41"
            ],
            [
             0.9,
             "#4d9221"
            ],
            [
             1,
             "#276419"
            ]
           ],
           "sequential": [
            [
             0,
             "#0d0887"
            ],
            [
             0.1111111111111111,
             "#46039f"
            ],
            [
             0.2222222222222222,
             "#7201a8"
            ],
            [
             0.3333333333333333,
             "#9c179e"
            ],
            [
             0.4444444444444444,
             "#bd3786"
            ],
            [
             0.5555555555555556,
             "#d8576b"
            ],
            [
             0.6666666666666666,
             "#ed7953"
            ],
            [
             0.7777777777777778,
             "#fb9f3a"
            ],
            [
             0.8888888888888888,
             "#fdca26"
            ],
            [
             1,
             "#f0f921"
            ]
           ],
           "sequentialminus": [
            [
             0,
             "#0d0887"
            ],
            [
             0.1111111111111111,
             "#46039f"
            ],
            [
             0.2222222222222222,
             "#7201a8"
            ],
            [
             0.3333333333333333,
             "#9c179e"
            ],
            [
             0.4444444444444444,
             "#bd3786"
            ],
            [
             0.5555555555555556,
             "#d8576b"
            ],
            [
             0.6666666666666666,
             "#ed7953"
            ],
            [
             0.7777777777777778,
             "#fb9f3a"
            ],
            [
             0.8888888888888888,
             "#fdca26"
            ],
            [
             1,
             "#f0f921"
            ]
           ]
          },
          "colorway": [
           "#636efa",
           "#EF553B",
           "#00cc96",
           "#ab63fa",
           "#FFA15A",
           "#19d3f3",
           "#FF6692",
           "#B6E880",
           "#FF97FF",
           "#FECB52"
          ],
          "font": {
           "color": "#2a3f5f"
          },
          "geo": {
           "bgcolor": "white",
           "lakecolor": "white",
           "landcolor": "#E5ECF6",
           "showlakes": true,
           "showland": true,
           "subunitcolor": "white"
          },
          "hoverlabel": {
           "align": "left"
          },
          "hovermode": "closest",
          "mapbox": {
           "style": "light"
          },
          "paper_bgcolor": "white",
          "plot_bgcolor": "#E5ECF6",
          "polar": {
           "angularaxis": {
            "gridcolor": "white",
            "linecolor": "white",
            "ticks": ""
           },
           "bgcolor": "#E5ECF6",
           "radialaxis": {
            "gridcolor": "white",
            "linecolor": "white",
            "ticks": ""
           }
          },
          "scene": {
           "xaxis": {
            "backgroundcolor": "#E5ECF6",
            "gridcolor": "white",
            "gridwidth": 2,
            "linecolor": "white",
            "showbackground": true,
            "ticks": "",
            "zerolinecolor": "white"
           },
           "yaxis": {
            "backgroundcolor": "#E5ECF6",
            "gridcolor": "white",
            "gridwidth": 2,
            "linecolor": "white",
            "showbackground": true,
            "ticks": "",
            "zerolinecolor": "white"
           },
           "zaxis": {
            "backgroundcolor": "#E5ECF6",
            "gridcolor": "white",
            "gridwidth": 2,
            "linecolor": "white",
            "showbackground": true,
            "ticks": "",
            "zerolinecolor": "white"
           }
          },
          "shapedefaults": {
           "line": {
            "color": "#2a3f5f"
           }
          },
          "ternary": {
           "aaxis": {
            "gridcolor": "white",
            "linecolor": "white",
            "ticks": ""
           },
           "baxis": {
            "gridcolor": "white",
            "linecolor": "white",
            "ticks": ""
           },
           "bgcolor": "#E5ECF6",
           "caxis": {
            "gridcolor": "white",
            "linecolor": "white",
            "ticks": ""
           }
          },
          "title": {
           "x": 0.05
          },
          "xaxis": {
           "automargin": true,
           "gridcolor": "white",
           "linecolor": "white",
           "ticks": "",
           "title": {
            "standoff": 15
           },
           "zerolinecolor": "white",
           "zerolinewidth": 2
          },
          "yaxis": {
           "automargin": true,
           "gridcolor": "white",
           "linecolor": "white",
           "ticks": "",
           "title": {
            "standoff": 15
           },
           "zerolinecolor": "white",
           "zerolinewidth": 2
          }
         }
        },
        "width": 960,
        "xaxis": {
         "title": {
          "text": "Energy [J]"
         }
        },
        "yaxis": {
         "title": {
          "text": ""
         }
        }
       }
      }
     },
     "metadata": {},
     "output_type": "display_data"
    }
   ],
   "source": [
    "fig = go.Figure()\n",
    "\n",
    "exp_1 = np.exp(-energy/kT)\n",
    "\n",
    "fig.add_trace(go.Scatter(\n",
    "        x=energy,\n",
    "        y=exp_1,\n",
    "        mode='markers',\n",
    "        name=f\"\"\n",
    "))\n",
    "\n",
    "fig.update_layout(\n",
    "        xaxis_title=\"Energy [J]\",\n",
    "        yaxis_title=\"\",\n",
    "        legend=dict(x=0.65, y=0.98)\n",
    ")\n",
    "\n",
    "plot(fig)"
   ]
  },
  {
   "cell_type": "markdown",
   "id": "b0be7f98",
   "metadata": {},
   "source": [
    "Plotting \"second\" exponential term $\\exp\\left(-\\dfrac{b}{\\sqrt{E}}\\right)$"
   ]
  },
  {
   "cell_type": "code",
   "execution_count": 33,
   "id": "bcff2b84",
   "metadata": {},
   "outputs": [
    {
     "data": {
      "application/vnd.plotly.v1+json": {
       "config": {
        "plotlyServerURL": "https://plot.ly"
       },
       "data": [
        {
         "mode": "markers",
         "name": "",
         "type": "scatter",
         "x": {
          "bdata": "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",
          "dtype": "f8"
         },
         "y": {
          "bdata": "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",
          "dtype": "f8"
         }
        }
       ],
       "layout": {
        "autosize": true,
        "height": 540,
        "legend": {
         "x": 0.65,
         "y": 0.98
        },
        "template": {
         "data": {
          "bar": [
           {
            "error_x": {
             "color": "#2a3f5f"
            },
            "error_y": {
             "color": "#2a3f5f"
            },
            "marker": {
             "line": {
              "color": "#E5ECF6",
              "width": 0.5
             },
             "pattern": {
              "fillmode": "overlay",
              "size": 10,
              "solidity": 0.2
             }
            },
            "type": "bar"
           }
          ],
          "barpolar": [
           {
            "marker": {
             "line": {
              "color": "#E5ECF6",
              "width": 0.5
             },
             "pattern": {
              "fillmode": "overlay",
              "size": 10,
              "solidity": 0.2
             }
            },
            "type": "barpolar"
           }
          ],
          "carpet": [
           {
            "aaxis": {
             "endlinecolor": "#2a3f5f",
             "gridcolor": "white",
             "linecolor": "white",
             "minorgridcolor": "white",
             "startlinecolor": "#2a3f5f"
            },
            "baxis": {
             "endlinecolor": "#2a3f5f",
             "gridcolor": "white",
             "linecolor": "white",
             "minorgridcolor": "white",
             "startlinecolor": "#2a3f5f"
            },
            "type": "carpet"
           }
          ],
          "choropleth": [
           {
            "colorbar": {
             "outlinewidth": 0,
             "ticks": ""
            },
            "type": "choropleth"
           }
          ],
          "contour": [
           {
            "colorbar": {
             "outlinewidth": 0,
             "ticks": ""
            },
            "colorscale": [
             [
              0,
              "#0d0887"
             ],
             [
              0.1111111111111111,
              "#46039f"
             ],
             [
              0.2222222222222222,
              "#7201a8"
             ],
             [
              0.3333333333333333,
              "#9c179e"
             ],
             [
              0.4444444444444444,
              "#bd3786"
             ],
             [
              0.5555555555555556,
              "#d8576b"
             ],
             [
              0.6666666666666666,
              "#ed7953"
             ],
             [
              0.7777777777777778,
              "#fb9f3a"
             ],
             [
              0.8888888888888888,
              "#fdca26"
             ],
             [
              1,
              "#f0f921"
             ]
            ],
            "type": "contour"
           }
          ],
          "contourcarpet": [
           {
            "colorbar": {
             "outlinewidth": 0,
             "ticks": ""
            },
            "type": "contourcarpet"
           }
          ],
          "heatmap": [
           {
            "colorbar": {
             "outlinewidth": 0,
             "ticks": ""
            },
            "colorscale": [
             [
              0,
              "#0d0887"
             ],
             [
              0.1111111111111111,
              "#46039f"
             ],
             [
              0.2222222222222222,
              "#7201a8"
             ],
             [
              0.3333333333333333,
              "#9c179e"
             ],
             [
              0.4444444444444444,
              "#bd3786"
             ],
             [
              0.5555555555555556,
              "#d8576b"
             ],
             [
              0.6666666666666666,
              "#ed7953"
             ],
             [
              0.7777777777777778,
              "#fb9f3a"
             ],
             [
              0.8888888888888888,
              "#fdca26"
             ],
             [
              1,
              "#f0f921"
             ]
            ],
            "type": "heatmap"
           }
          ],
          "histogram": [
           {
            "marker": {
             "pattern": {
              "fillmode": "overlay",
              "size": 10,
              "solidity": 0.2
             }
            },
            "type": "histogram"
           }
          ],
          "histogram2d": [
           {
            "colorbar": {
             "outlinewidth": 0,
             "ticks": ""
            },
            "colorscale": [
             [
              0,
              "#0d0887"
             ],
             [
              0.1111111111111111,
              "#46039f"
             ],
             [
              0.2222222222222222,
              "#7201a8"
             ],
             [
              0.3333333333333333,
              "#9c179e"
             ],
             [
              0.4444444444444444,
              "#bd3786"
             ],
             [
              0.5555555555555556,
              "#d8576b"
             ],
             [
              0.6666666666666666,
              "#ed7953"
             ],
             [
              0.7777777777777778,
              "#fb9f3a"
             ],
             [
              0.8888888888888888,
              "#fdca26"
             ],
             [
              1,
              "#f0f921"
             ]
            ],
            "type": "histogram2d"
           }
          ],
          "histogram2dcontour": [
           {
            "colorbar": {
             "outlinewidth": 0,
             "ticks": ""
            },
            "colorscale": [
             [
              0,
              "#0d0887"
             ],
             [
              0.1111111111111111,
              "#46039f"
             ],
             [
              0.2222222222222222,
              "#7201a8"
             ],
             [
              0.3333333333333333,
              "#9c179e"
             ],
             [
              0.4444444444444444,
              "#bd3786"
             ],
             [
              0.5555555555555556,
              "#d8576b"
             ],
             [
              0.6666666666666666,
              "#ed7953"
             ],
             [
              0.7777777777777778,
              "#fb9f3a"
             ],
             [
              0.8888888888888888,
              "#fdca26"
             ],
             [
              1,
              "#f0f921"
             ]
            ],
            "type": "histogram2dcontour"
           }
          ],
          "mesh3d": [
           {
            "colorbar": {
             "outlinewidth": 0,
             "ticks": ""
            },
            "type": "mesh3d"
           }
          ],
          "parcoords": [
           {
            "line": {
             "colorbar": {
              "outlinewidth": 0,
              "ticks": ""
             }
            },
            "type": "parcoords"
           }
          ],
          "pie": [
           {
            "automargin": true,
            "type": "pie"
           }
          ],
          "scatter": [
           {
            "fillpattern": {
             "fillmode": "overlay",
             "size": 10,
             "solidity": 0.2
            },
            "type": "scatter"
           }
          ],
          "scatter3d": [
           {
            "line": {
             "colorbar": {
              "outlinewidth": 0,
              "ticks": ""
             }
            },
            "marker": {
             "colorbar": {
              "outlinewidth": 0,
              "ticks": ""
             }
            },
            "type": "scatter3d"
           }
          ],
          "scattercarpet": [
           {
            "marker": {
             "colorbar": {
              "outlinewidth": 0,
              "ticks": ""
             }
            },
            "type": "scattercarpet"
           }
          ],
          "scattergeo": [
           {
            "marker": {
             "colorbar": {
              "outlinewidth": 0,
              "ticks": ""
             }
            },
            "type": "scattergeo"
           }
          ],
          "scattergl": [
           {
            "marker": {
             "colorbar": {
              "outlinewidth": 0,
              "ticks": ""
             }
            },
            "type": "scattergl"
           }
          ],
          "scattermap": [
           {
            "marker": {
             "colorbar": {
              "outlinewidth": 0,
              "ticks": ""
             }
            },
            "type": "scattermap"
           }
          ],
          "scattermapbox": [
           {
            "marker": {
             "colorbar": {
              "outlinewidth": 0,
              "ticks": ""
             }
            },
            "type": "scattermapbox"
           }
          ],
          "scatterpolar": [
           {
            "marker": {
             "colorbar": {
              "outlinewidth": 0,
              "ticks": ""
             }
            },
            "type": "scatterpolar"
           }
          ],
          "scatterpolargl": [
           {
            "marker": {
             "colorbar": {
              "outlinewidth": 0,
              "ticks": ""
             }
            },
            "type": "scatterpolargl"
           }
          ],
          "scatterternary": [
           {
            "marker": {
             "colorbar": {
              "outlinewidth": 0,
              "ticks": ""
             }
            },
            "type": "scatterternary"
           }
          ],
          "surface": [
           {
            "colorbar": {
             "outlinewidth": 0,
             "ticks": ""
            },
            "colorscale": [
             [
              0,
              "#0d0887"
             ],
             [
              0.1111111111111111,
              "#46039f"
             ],
             [
              0.2222222222222222,
              "#7201a8"
             ],
             [
              0.3333333333333333,
              "#9c179e"
             ],
             [
              0.4444444444444444,
              "#bd3786"
             ],
             [
              0.5555555555555556,
              "#d8576b"
             ],
             [
              0.6666666666666666,
              "#ed7953"
             ],
             [
              0.7777777777777778,
              "#fb9f3a"
             ],
             [
              0.8888888888888888,
              "#fdca26"
             ],
             [
              1,
              "#f0f921"
             ]
            ],
            "type": "surface"
           }
          ],
          "table": [
           {
            "cells": {
             "fill": {
              "color": "#EBF0F8"
             },
             "line": {
              "color": "white"
             }
            },
            "header": {
             "fill": {
              "color": "#C8D4E3"
             },
             "line": {
              "color": "white"
             }
            },
            "type": "table"
           }
          ]
         },
         "layout": {
          "annotationdefaults": {
           "arrowcolor": "#2a3f5f",
           "arrowhead": 0,
           "arrowwidth": 1
          },
          "autotypenumbers": "strict",
          "coloraxis": {
           "colorbar": {
            "outlinewidth": 0,
            "ticks": ""
           }
          },
          "colorscale": {
           "diverging": [
            [
             0,
             "#8e0152"
            ],
            [
             0.1,
             "#c51b7d"
            ],
            [
             0.2,
             "#de77ae"
            ],
            [
             0.3,
             "#f1b6da"
            ],
            [
             0.4,
             "#fde0ef"
            ],
            [
             0.5,
             "#f7f7f7"
            ],
            [
             0.6,
             "#e6f5d0"
            ],
            [
             0.7,
             "#b8e186"
            ],
            [
             0.8,
             "#7fbc41"
            ],
            [
             0.9,
             "#4d9221"
            ],
            [
             1,
             "#276419"
            ]
           ],
           "sequential": [
            [
             0,
             "#0d0887"
            ],
            [
             0.1111111111111111,
             "#46039f"
            ],
            [
             0.2222222222222222,
             "#7201a8"
            ],
            [
             0.3333333333333333,
             "#9c179e"
            ],
            [
             0.4444444444444444,
             "#bd3786"
            ],
            [
             0.5555555555555556,
             "#d8576b"
            ],
            [
             0.6666666666666666,
             "#ed7953"
            ],
            [
             0.7777777777777778,
             "#fb9f3a"
            ],
            [
             0.8888888888888888,
             "#fdca26"
            ],
            [
             1,
             "#f0f921"
            ]
           ],
           "sequentialminus": [
            [
             0,
             "#0d0887"
            ],
            [
             0.1111111111111111,
             "#46039f"
            ],
            [
             0.2222222222222222,
             "#7201a8"
            ],
            [
             0.3333333333333333,
             "#9c179e"
            ],
            [
             0.4444444444444444,
             "#bd3786"
            ],
            [
             0.5555555555555556,
             "#d8576b"
            ],
            [
             0.6666666666666666,
             "#ed7953"
            ],
            [
             0.7777777777777778,
             "#fb9f3a"
            ],
            [
             0.8888888888888888,
             "#fdca26"
            ],
            [
             1,
             "#f0f921"
            ]
           ]
          },
          "colorway": [
           "#636efa",
           "#EF553B",
           "#00cc96",
           "#ab63fa",
           "#FFA15A",
           "#19d3f3",
           "#FF6692",
           "#B6E880",
           "#FF97FF",
           "#FECB52"
          ],
          "font": {
           "color": "#2a3f5f"
          },
          "geo": {
           "bgcolor": "white",
           "lakecolor": "white",
           "landcolor": "#E5ECF6",
           "showlakes": true,
           "showland": true,
           "subunitcolor": "white"
          },
          "hoverlabel": {
           "align": "left"
          },
          "hovermode": "closest",
          "mapbox": {
           "style": "light"
          },
          "paper_bgcolor": "white",
          "plot_bgcolor": "#E5ECF6",
          "polar": {
           "angularaxis": {
            "gridcolor": "white",
            "linecolor": "white",
            "ticks": ""
           },
           "bgcolor": "#E5ECF6",
           "radialaxis": {
            "gridcolor": "white",
            "linecolor": "white",
            "ticks": ""
           }
          },
          "scene": {
           "xaxis": {
            "backgroundcolor": "#E5ECF6",
            "gridcolor": "white",
            "gridwidth": 2,
            "linecolor": "white",
            "showbackground": true,
            "ticks": "",
            "zerolinecolor": "white"
           },
           "yaxis": {
            "backgroundcolor": "#E5ECF6",
            "gridcolor": "white",
            "gridwidth": 2,
            "linecolor": "white",
            "showbackground": true,
            "ticks": "",
            "zerolinecolor": "white"
           },
           "zaxis": {
            "backgroundcolor": "#E5ECF6",
            "gridcolor": "white",
            "gridwidth": 2,
            "linecolor": "white",
            "showbackground": true,
            "ticks": "",
            "zerolinecolor": "white"
           }
          },
          "shapedefaults": {
           "line": {
            "color": "#2a3f5f"
           }
          },
          "ternary": {
           "aaxis": {
            "gridcolor": "white",
            "linecolor": "white",
            "ticks": ""
           },
           "baxis": {
            "gridcolor": "white",
            "linecolor": "white",
            "ticks": ""
           },
           "bgcolor": "#E5ECF6",
           "caxis": {
            "gridcolor": "white",
            "linecolor": "white",
            "ticks": ""
           }
          },
          "title": {
           "x": 0.05
          },
          "xaxis": {
           "automargin": true,
           "gridcolor": "white",
           "linecolor": "white",
           "ticks": "",
           "title": {
            "standoff": 15
           },
           "zerolinecolor": "white",
           "zerolinewidth": 2
          },
          "yaxis": {
           "automargin": true,
           "gridcolor": "white",
           "linecolor": "white",
           "ticks": "",
           "title": {
            "standoff": 15
           },
           "zerolinecolor": "white",
           "zerolinewidth": 2
          }
         }
        },
        "width": 960,
        "xaxis": {
         "title": {
          "text": "Energy [J]"
         }
        },
        "yaxis": {
         "title": {
          "text": ""
         }
        }
       }
      }
     },
     "metadata": {},
     "output_type": "display_data"
    }
   ],
   "source": [
    "fig = go.Figure()\n",
    "\n",
    "exp_2 = np.exp(-b/energy**(1/2))\n",
    "\n",
    "fig.add_trace(go.Scatter(\n",
    "        x=energy,\n",
    "        y=exp_2,\n",
    "        mode='markers',\n",
    "        name=f\"\"\n",
    "))\n",
    "\n",
    "fig.update_layout(\n",
    "        xaxis_title=\"Energy [J]\",\n",
    "        yaxis_title=\"\",\n",
    "        legend=dict(x=0.65, y=0.98)\n",
    ")\n",
    "\n",
    "plot(fig)"
   ]
  },
  {
   "cell_type": "markdown",
   "id": "783f69bb",
   "metadata": {},
   "source": [
    "Plotting probability of fusion (Gamow peak)"
   ]
  },
  {
   "cell_type": "code",
   "execution_count": 34,
   "id": "7a8fa3a1",
   "metadata": {},
   "outputs": [
    {
     "data": {
      "application/vnd.plotly.v1+json": {
       "config": {
        "plotlyServerURL": "https://plot.ly"
       },
       "data": [
        {
         "mode": "markers",
         "name": "",
         "type": "scatter",
         "x": {
          "bdata": "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",
          "dtype": "f8"
         },
         "y": {
          "bdata": "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",
          "dtype": "f8"
         }
        }
       ],
       "layout": {
        "autosize": true,
        "height": 540,
        "legend": {
         "x": 0.65,
         "y": 0.98
        },
        "template": {
         "data": {
          "bar": [
           {
            "error_x": {
             "color": "#2a3f5f"
            },
            "error_y": {
             "color": "#2a3f5f"
            },
            "marker": {
             "line": {
              "color": "#E5ECF6",
              "width": 0.5
             },
             "pattern": {
              "fillmode": "overlay",
              "size": 10,
              "solidity": 0.2
             }
            },
            "type": "bar"
           }
          ],
          "barpolar": [
           {
            "marker": {
             "line": {
              "color": "#E5ECF6",
              "width": 0.5
             },
             "pattern": {
              "fillmode": "overlay",
              "size": 10,
              "solidity": 0.2
             }
            },
            "type": "barpolar"
           }
          ],
          "carpet": [
           {
            "aaxis": {
             "endlinecolor": "#2a3f5f",
             "gridcolor": "white",
             "linecolor": "white",
             "minorgridcolor": "white",
             "startlinecolor": "#2a3f5f"
            },
            "baxis": {
             "endlinecolor": "#2a3f5f",
             "gridcolor": "white",
             "linecolor": "white",
             "minorgridcolor": "white",
             "startlinecolor": "#2a3f5f"
            },
            "type": "carpet"
           }
          ],
          "choropleth": [
           {
            "colorbar": {
             "outlinewidth": 0,
             "ticks": ""
            },
            "type": "choropleth"
           }
          ],
          "contour": [
           {
            "colorbar": {
             "outlinewidth": 0,
             "ticks": ""
            },
            "colorscale": [
             [
              0,
              "#0d0887"
             ],
             [
              0.1111111111111111,
              "#46039f"
             ],
             [
              0.2222222222222222,
              "#7201a8"
             ],
             [
              0.3333333333333333,
              "#9c179e"
             ],
             [
              0.4444444444444444,
              "#bd3786"
             ],
             [
              0.5555555555555556,
              "#d8576b"
             ],
             [
              0.6666666666666666,
              "#ed7953"
             ],
             [
              0.7777777777777778,
              "#fb9f3a"
             ],
             [
              0.8888888888888888,
              "#fdca26"
             ],
             [
              1,
              "#f0f921"
             ]
            ],
            "type": "contour"
           }
          ],
          "contourcarpet": [
           {
            "colorbar": {
             "outlinewidth": 0,
             "ticks": ""
            },
            "type": "contourcarpet"
           }
          ],
          "heatmap": [
           {
            "colorbar": {
             "outlinewidth": 0,
             "ticks": ""
            },
            "colorscale": [
             [
              0,
              "#0d0887"
             ],
             [
              0.1111111111111111,
              "#46039f"
             ],
             [
              0.2222222222222222,
              "#7201a8"
             ],
             [
              0.3333333333333333,
              "#9c179e"
             ],
             [
              0.4444444444444444,
              "#bd3786"
             ],
             [
              0.5555555555555556,
              "#d8576b"
             ],
             [
              0.6666666666666666,
              "#ed7953"
             ],
             [
              0.7777777777777778,
              "#fb9f3a"
             ],
             [
              0.8888888888888888,
              "#fdca26"
             ],
             [
              1,
              "#f0f921"
             ]
            ],
            "type": "heatmap"
           }
          ],
          "histogram": [
           {
            "marker": {
             "pattern": {
              "fillmode": "overlay",
              "size": 10,
              "solidity": 0.2
             }
            },
            "type": "histogram"
           }
          ],
          "histogram2d": [
           {
            "colorbar": {
             "outlinewidth": 0,
             "ticks": ""
            },
            "colorscale": [
             [
              0,
              "#0d0887"
             ],
             [
              0.1111111111111111,
              "#46039f"
             ],
             [
              0.2222222222222222,
              "#7201a8"
             ],
             [
              0.3333333333333333,
              "#9c179e"
             ],
             [
              0.4444444444444444,
              "#bd3786"
             ],
             [
              0.5555555555555556,
              "#d8576b"
             ],
             [
              0.6666666666666666,
              "#ed7953"
             ],
             [
              0.7777777777777778,
              "#fb9f3a"
             ],
             [
              0.8888888888888888,
              "#fdca26"
             ],
             [
              1,
              "#f0f921"
             ]
            ],
            "type": "histogram2d"
           }
          ],
          "histogram2dcontour": [
           {
            "colorbar": {
             "outlinewidth": 0,
             "ticks": ""
            },
            "colorscale": [
             [
              0,
              "#0d0887"
             ],
             [
              0.1111111111111111,
              "#46039f"
             ],
             [
              0.2222222222222222,
              "#7201a8"
             ],
             [
              0.3333333333333333,
              "#9c179e"
             ],
             [
              0.4444444444444444,
              "#bd3786"
             ],
             [
              0.5555555555555556,
              "#d8576b"
             ],
             [
              0.6666666666666666,
              "#ed7953"
             ],
             [
              0.7777777777777778,
              "#fb9f3a"
             ],
             [
              0.8888888888888888,
              "#fdca26"
             ],
             [
              1,
              "#f0f921"
             ]
            ],
            "type": "histogram2dcontour"
           }
          ],
          "mesh3d": [
           {
            "colorbar": {
             "outlinewidth": 0,
             "ticks": ""
            },
            "type": "mesh3d"
           }
          ],
          "parcoords": [
           {
            "line": {
             "colorbar": {
              "outlinewidth": 0,
              "ticks": ""
             }
            },
            "type": "parcoords"
           }
          ],
          "pie": [
           {
            "automargin": true,
            "type": "pie"
           }
          ],
          "scatter": [
           {
            "fillpattern": {
             "fillmode": "overlay",
             "size": 10,
             "solidity": 0.2
            },
            "type": "scatter"
           }
          ],
          "scatter3d": [
           {
            "line": {
             "colorbar": {
              "outlinewidth": 0,
              "ticks": ""
             }
            },
            "marker": {
             "colorbar": {
              "outlinewidth": 0,
              "ticks": ""
             }
            },
            "type": "scatter3d"
           }
          ],
          "scattercarpet": [
           {
            "marker": {
             "colorbar": {
              "outlinewidth": 0,
              "ticks": ""
             }
            },
            "type": "scattercarpet"
           }
          ],
          "scattergeo": [
           {
            "marker": {
             "colorbar": {
              "outlinewidth": 0,
              "ticks": ""
             }
            },
            "type": "scattergeo"
           }
          ],
          "scattergl": [
           {
            "marker": {
             "colorbar": {
              "outlinewidth": 0,
              "ticks": ""
             }
            },
            "type": "scattergl"
           }
          ],
          "scattermap": [
           {
            "marker": {
             "colorbar": {
              "outlinewidth": 0,
              "ticks": ""
             }
            },
            "type": "scattermap"
           }
          ],
          "scattermapbox": [
           {
            "marker": {
             "colorbar": {
              "outlinewidth": 0,
              "ticks": ""
             }
            },
            "type": "scattermapbox"
           }
          ],
          "scatterpolar": [
           {
            "marker": {
             "colorbar": {
              "outlinewidth": 0,
              "ticks": ""
             }
            },
            "type": "scatterpolar"
           }
          ],
          "scatterpolargl": [
           {
            "marker": {
             "colorbar": {
              "outlinewidth": 0,
              "ticks": ""
             }
            },
            "type": "scatterpolargl"
           }
          ],
          "scatterternary": [
           {
            "marker": {
             "colorbar": {
              "outlinewidth": 0,
              "ticks": ""
             }
            },
            "type": "scatterternary"
           }
          ],
          "surface": [
           {
            "colorbar": {
             "outlinewidth": 0,
             "ticks": ""
            },
            "colorscale": [
             [
              0,
              "#0d0887"
             ],
             [
              0.1111111111111111,
              "#46039f"
             ],
             [
              0.2222222222222222,
              "#7201a8"
             ],
             [
              0.3333333333333333,
              "#9c179e"
             ],
             [
              0.4444444444444444,
              "#bd3786"
             ],
             [
              0.5555555555555556,
              "#d8576b"
             ],
             [
              0.6666666666666666,
              "#ed7953"
             ],
             [
              0.7777777777777778,
              "#fb9f3a"
             ],
             [
              0.8888888888888888,
              "#fdca26"
             ],
             [
              1,
              "#f0f921"
             ]
            ],
            "type": "surface"
           }
          ],
          "table": [
           {
            "cells": {
             "fill": {
              "color": "#EBF0F8"
             },
             "line": {
              "color": "white"
             }
            },
            "header": {
             "fill": {
              "color": "#C8D4E3"
             },
             "line": {
              "color": "white"
             }
            },
            "type": "table"
           }
          ]
         },
         "layout": {
          "annotationdefaults": {
           "arrowcolor": "#2a3f5f",
           "arrowhead": 0,
           "arrowwidth": 1
          },
          "autotypenumbers": "strict",
          "coloraxis": {
           "colorbar": {
            "outlinewidth": 0,
            "ticks": ""
           }
          },
          "colorscale": {
           "diverging": [
            [
             0,
             "#8e0152"
            ],
            [
             0.1,
             "#c51b7d"
            ],
            [
             0.2,
             "#de77ae"
            ],
            [
             0.3,
             "#f1b6da"
            ],
            [
             0.4,
             "#fde0ef"
            ],
            [
             0.5,
             "#f7f7f7"
            ],
            [
             0.6,
             "#e6f5d0"
            ],
            [
             0.7,
             "#b8e186"
            ],
            [
             0.8,
             "#7fbc41"
            ],
            [
             0.9,
             "#4d9221"
            ],
            [
             1,
             "#276419"
            ]
           ],
           "sequential": [
            [
             0,
             "#0d0887"
            ],
            [
             0.1111111111111111,
             "#46039f"
            ],
            [
             0.2222222222222222,
             "#7201a8"
            ],
            [
             0.3333333333333333,
             "#9c179e"
            ],
            [
             0.4444444444444444,
             "#bd3786"
            ],
            [
             0.5555555555555556,
             "#d8576b"
            ],
            [
             0.6666666666666666,
             "#ed7953"
            ],
            [
             0.7777777777777778,
             "#fb9f3a"
            ],
            [
             0.8888888888888888,
             "#fdca26"
            ],
            [
             1,
             "#f0f921"
            ]
           ],
           "sequentialminus": [
            [
             0,
             "#0d0887"
            ],
            [
             0.1111111111111111,
             "#46039f"
            ],
            [
             0.2222222222222222,
             "#7201a8"
            ],
            [
             0.3333333333333333,
             "#9c179e"
            ],
            [
             0.4444444444444444,
             "#bd3786"
            ],
            [
             0.5555555555555556,
             "#d8576b"
            ],
            [
             0.6666666666666666,
             "#ed7953"
            ],
            [
             0.7777777777777778,
             "#fb9f3a"
            ],
            [
             0.8888888888888888,
             "#fdca26"
            ],
            [
             1,
             "#f0f921"
            ]
           ]
          },
          "colorway": [
           "#636efa",
           "#EF553B",
           "#00cc96",
           "#ab63fa",
           "#FFA15A",
           "#19d3f3",
           "#FF6692",
           "#B6E880",
           "#FF97FF",
           "#FECB52"
          ],
          "font": {
           "color": "#2a3f5f"
          },
          "geo": {
           "bgcolor": "white",
           "lakecolor": "white",
           "landcolor": "#E5ECF6",
           "showlakes": true,
           "showland": true,
           "subunitcolor": "white"
          },
          "hoverlabel": {
           "align": "left"
          },
          "hovermode": "closest",
          "mapbox": {
           "style": "light"
          },
          "paper_bgcolor": "white",
          "plot_bgcolor": "#E5ECF6",
          "polar": {
           "angularaxis": {
            "gridcolor": "white",
            "linecolor": "white",
            "ticks": ""
           },
           "bgcolor": "#E5ECF6",
           "radialaxis": {
            "gridcolor": "white",
            "linecolor": "white",
            "ticks": ""
           }
          },
          "scene": {
           "xaxis": {
            "backgroundcolor": "#E5ECF6",
            "gridcolor": "white",
            "gridwidth": 2,
            "linecolor": "white",
            "showbackground": true,
            "ticks": "",
            "zerolinecolor": "white"
           },
           "yaxis": {
            "backgroundcolor": "#E5ECF6",
            "gridcolor": "white",
            "gridwidth": 2,
            "linecolor": "white",
            "showbackground": true,
            "ticks": "",
            "zerolinecolor": "white"
           },
           "zaxis": {
            "backgroundcolor": "#E5ECF6",
            "gridcolor": "white",
            "gridwidth": 2,
            "linecolor": "white",
            "showbackground": true,
            "ticks": "",
            "zerolinecolor": "white"
           }
          },
          "shapedefaults": {
           "line": {
            "color": "#2a3f5f"
           }
          },
          "ternary": {
           "aaxis": {
            "gridcolor": "white",
            "linecolor": "white",
            "ticks": ""
           },
           "baxis": {
            "gridcolor": "white",
            "linecolor": "white",
            "ticks": ""
           },
           "bgcolor": "#E5ECF6",
           "caxis": {
            "gridcolor": "white",
            "linecolor": "white",
            "ticks": ""
           }
          },
          "title": {
           "x": 0.05
          },
          "xaxis": {
           "automargin": true,
           "gridcolor": "white",
           "linecolor": "white",
           "ticks": "",
           "title": {
            "standoff": 15
           },
           "zerolinecolor": "white",
           "zerolinewidth": 2
          },
          "yaxis": {
           "automargin": true,
           "gridcolor": "white",
           "linecolor": "white",
           "ticks": "",
           "title": {
            "standoff": 15
           },
           "zerolinecolor": "white",
           "zerolinewidth": 2
          }
         }
        },
        "width": 960,
        "xaxis": {
         "title": {
          "text": "Energy [J]"
         }
        },
        "yaxis": {
         "title": {
          "text": "Fusion Probability"
         }
        }
       }
      }
     },
     "metadata": {},
     "output_type": "display_data"
    },
    {
     "name": "stdout",
     "output_type": "stream",
     "text": [
      "Sun central temperature Tc ≈ 1.600e+07 K\n",
      "Gamow-peak area at Tc(sun) ≈ 1.191678e-05\n"
     ]
    }
   ],
   "source": [
    "fig = go.Figure()\n",
    "\n",
    "sun_temperature = central_temperature(sun_radius, sun_mass)\n",
    "sun_fp = fusion_probability(sun_temperature, energy)\n",
    "sun_area = get_area(energy, sun_fp)\n",
    "    \n",
    "fig.add_trace(go.Scatter(\n",
    "        x=energy,\n",
    "        y=sun_fp,\n",
    "        mode='markers',\n",
    "        name=f\"\"\n",
    "))\n",
    "\n",
    "fig.update_layout(\n",
    "        xaxis_title=\"Energy [J]\",\n",
    "        yaxis_title=\"Fusion Probability\",\n",
    "        legend=dict(x=0.65, y=0.98)\n",
    ")\n",
    "\n",
    "plot(fig)\n",
    "print(f\"Sun central temperature Tc ≈ {sun_temperature:.3e} K\")\n",
    "print(f\"Gamow-peak area at Tc(sun) ≈ {sun_area:.6e}\")"
   ]
  },
  {
   "cell_type": "markdown",
   "id": "ca44f824",
   "metadata": {},
   "source": [
    "Why does Gamow peak appear?"
   ]
  },
  {
   "cell_type": "markdown",
   "id": "3ef3d3cf",
   "metadata": {},
   "source": [
    "Using known stars (https://en.wikipedia.org/wiki/Main_sequence), I am going to find a relation between star radius and mass.  \n",
    "Testing a power law relation of the form $y=x^N$ by plotting $log(y)$ againt $log(x)$, where the gradient will give N."
   ]
  },
  {
   "cell_type": "markdown",
   "id": "ad529176",
   "metadata": {},
   "source": [
    "Mass range justification?"
   ]
  },
  {
   "cell_type": "code",
   "execution_count": 35,
   "id": "e04d0254",
   "metadata": {},
   "outputs": [],
   "source": [
    "stars = [\"O2\", \"O6\", \"B0\", \"B5\", \"A0\", \"A5\", \"F0\", \"F5\", \"G0\", \"G2\", \"G5\", \"K0\", \"K5\", \"M0\", \"M5\", \"M8\", \"L1\"]\n",
    "stellar_radii = np.array([12, 9.8, 7.4, 3.8, 2.5, 1.7, 1.3, 1.2, 1.05, 1, 0.93, 0.85, 0.74, 0.51, 0.18, 0.11, 0.09]) # in solar units\n",
    "stellar_masses = np.array([100, 35, 18, 6.5, 3.2, 2.1, 1.7, 1.3, 1.10, 1, 0.93, 0.78, 0.69, 0.60, 0.15, 0.08, 0.07]) # in solar units"
   ]
  },
  {
   "cell_type": "code",
   "execution_count": 36,
   "id": "2daa93fc",
   "metadata": {},
   "outputs": [
    {
     "data": {
      "application/vnd.plotly.v1+json": {
       "config": {
        "plotlyServerURL": "https://plot.ly"
       },
       "data": [
        {
         "mode": "markers",
         "name": "",
         "type": "scatter",
         "x": {
          "bdata": "FlW1u7FrEkDF8w9TWnEMQIaRazp7HwdAqvvl1uby/T+r5gYGRJzyP25m6WLzvec/kakUGej64D/cueF7k8rQP8xGPHk/Zrg/AAAAAAAAAAB1qV8w/pOyv47dQPKUzc+/r6UT4oG/179SFIH6rljgvxjEOnyaWv6/uP4uOLE0BMD/fFEgKkYFwA==",
          "dtype": "f8"
         },
         "y": {
          "bdata": "fZ7TvBbhA0C+kzuyUUICQCQBRPIHAwBAJdkbFCpc9T944ODwQFLtP5GpFBno+uA/3Lnhe5PK0D91luQRUFbHP+/H8j4G+6g/AAAAAAAAAAB1qV8w/pOyv3lBlpdrzcS/kJ+KS05F07+wpGbgCYzlv0kx/nnQb/u/33Lrv3+oAcAhp738eEMDwA==",
          "dtype": "f8"
         }
        },
        {
         "mode": "lines",
         "name": "Fit: R ≈ 0.85 M^0.71",
         "type": "scatter",
         "x": {
          "bdata": "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",
          "dtype": "f8"
         },
         "y": {
          "bdata": "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",
          "dtype": "f8"
         }
        }
       ],
       "layout": {
        "autosize": true,
        "height": 540,
        "legend": {
         "x": 0.65,
         "y": 0.98
        },
        "template": {
         "data": {
          "bar": [
           {
            "error_x": {
             "color": "#2a3f5f"
            },
            "error_y": {
             "color": "#2a3f5f"
            },
            "marker": {
             "line": {
              "color": "#E5ECF6",
              "width": 0.5
             },
             "pattern": {
              "fillmode": "overlay",
              "size": 10,
              "solidity": 0.2
             }
            },
            "type": "bar"
           }
          ],
          "barpolar": [
           {
            "marker": {
             "line": {
              "color": "#E5ECF6",
              "width": 0.5
             },
             "pattern": {
              "fillmode": "overlay",
              "size": 10,
              "solidity": 0.2
             }
            },
            "type": "barpolar"
           }
          ],
          "carpet": [
           {
            "aaxis": {
             "endlinecolor": "#2a3f5f",
             "gridcolor": "white",
             "linecolor": "white",
             "minorgridcolor": "white",
             "startlinecolor": "#2a3f5f"
            },
            "baxis": {
             "endlinecolor": "#2a3f5f",
             "gridcolor": "white",
             "linecolor": "white",
             "minorgridcolor": "white",
             "startlinecolor": "#2a3f5f"
            },
            "type": "carpet"
           }
          ],
          "choropleth": [
           {
            "colorbar": {
             "outlinewidth": 0,
             "ticks": ""
            },
            "type": "choropleth"
           }
          ],
          "contour": [
           {
            "colorbar": {
             "outlinewidth": 0,
             "ticks": ""
            },
            "colorscale": [
             [
              0,
              "#0d0887"
             ],
             [
              0.1111111111111111,
              "#46039f"
             ],
             [
              0.2222222222222222,
              "#7201a8"
             ],
             [
              0.3333333333333333,
              "#9c179e"
             ],
             [
              0.4444444444444444,
              "#bd3786"
             ],
             [
              0.5555555555555556,
              "#d8576b"
             ],
             [
              0.6666666666666666,
              "#ed7953"
             ],
             [
              0.7777777777777778,
              "#fb9f3a"
             ],
             [
              0.8888888888888888,
              "#fdca26"
             ],
             [
              1,
              "#f0f921"
             ]
            ],
            "type": "contour"
           }
          ],
          "contourcarpet": [
           {
            "colorbar": {
             "outlinewidth": 0,
             "ticks": ""
            },
            "type": "contourcarpet"
           }
          ],
          "heatmap": [
           {
            "colorbar": {
             "outlinewidth": 0,
             "ticks": ""
            },
            "colorscale": [
             [
              0,
              "#0d0887"
             ],
             [
              0.1111111111111111,
              "#46039f"
             ],
             [
              0.2222222222222222,
              "#7201a8"
             ],
             [
              0.3333333333333333,
              "#9c179e"
             ],
             [
              0.4444444444444444,
              "#bd3786"
             ],
             [
              0.5555555555555556,
              "#d8576b"
             ],
             [
              0.6666666666666666,
              "#ed7953"
             ],
             [
              0.7777777777777778,
              "#fb9f3a"
             ],
             [
              0.8888888888888888,
              "#fdca26"
             ],
             [
              1,
              "#f0f921"
             ]
            ],
            "type": "heatmap"
           }
          ],
          "histogram": [
           {
            "marker": {
             "pattern": {
              "fillmode": "overlay",
              "size": 10,
              "solidity": 0.2
             }
            },
            "type": "histogram"
           }
          ],
          "histogram2d": [
           {
            "colorbar": {
             "outlinewidth": 0,
             "ticks": ""
            },
            "colorscale": [
             [
              0,
              "#0d0887"
             ],
             [
              0.1111111111111111,
              "#46039f"
             ],
             [
              0.2222222222222222,
              "#7201a8"
             ],
             [
              0.3333333333333333,
              "#9c179e"
             ],
             [
              0.4444444444444444,
              "#bd3786"
             ],
             [
              0.5555555555555556,
              "#d8576b"
             ],
             [
              0.6666666666666666,
              "#ed7953"
             ],
             [
              0.7777777777777778,
              "#fb9f3a"
             ],
             [
              0.8888888888888888,
              "#fdca26"
             ],
             [
              1,
              "#f0f921"
             ]
            ],
            "type": "histogram2d"
           }
          ],
          "histogram2dcontour": [
           {
            "colorbar": {
             "outlinewidth": 0,
             "ticks": ""
            },
            "colorscale": [
             [
              0,
              "#0d0887"
             ],
             [
              0.1111111111111111,
              "#46039f"
             ],
             [
              0.2222222222222222,
              "#7201a8"
             ],
             [
              0.3333333333333333,
              "#9c179e"
             ],
             [
              0.4444444444444444,
              "#bd3786"
             ],
             [
              0.5555555555555556,
              "#d8576b"
             ],
             [
              0.6666666666666666,
              "#ed7953"
             ],
             [
              0.7777777777777778,
              "#fb9f3a"
             ],
             [
              0.8888888888888888,
              "#fdca26"
             ],
             [
              1,
              "#f0f921"
             ]
            ],
            "type": "histogram2dcontour"
           }
          ],
          "mesh3d": [
           {
            "colorbar": {
             "outlinewidth": 0,
             "ticks": ""
            },
            "type": "mesh3d"
           }
          ],
          "parcoords": [
           {
            "line": {
             "colorbar": {
              "outlinewidth": 0,
              "ticks": ""
             }
            },
            "type": "parcoords"
           }
          ],
          "pie": [
           {
            "automargin": true,
            "type": "pie"
           }
          ],
          "scatter": [
           {
            "fillpattern": {
             "fillmode": "overlay",
             "size": 10,
             "solidity": 0.2
            },
            "type": "scatter"
           }
          ],
          "scatter3d": [
           {
            "line": {
             "colorbar": {
              "outlinewidth": 0,
              "ticks": ""
             }
            },
            "marker": {
             "colorbar": {
              "outlinewidth": 0,
              "ticks": ""
             }
            },
            "type": "scatter3d"
           }
          ],
          "scattercarpet": [
           {
            "marker": {
             "colorbar": {
              "outlinewidth": 0,
              "ticks": ""
             }
            },
            "type": "scattercarpet"
           }
          ],
          "scattergeo": [
           {
            "marker": {
             "colorbar": {
              "outlinewidth": 0,
              "ticks": ""
             }
            },
            "type": "scattergeo"
           }
          ],
          "scattergl": [
           {
            "marker": {
             "colorbar": {
              "outlinewidth": 0,
              "ticks": ""
             }
            },
            "type": "scattergl"
           }
          ],
          "scattermap": [
           {
            "marker": {
             "colorbar": {
              "outlinewidth": 0,
              "ticks": ""
             }
            },
            "type": "scattermap"
           }
          ],
          "scattermapbox": [
           {
            "marker": {
             "colorbar": {
              "outlinewidth": 0,
              "ticks": ""
             }
            },
            "type": "scattermapbox"
           }
          ],
          "scatterpolar": [
           {
            "marker": {
             "colorbar": {
              "outlinewidth": 0,
              "ticks": ""
             }
            },
            "type": "scatterpolar"
           }
          ],
          "scatterpolargl": [
           {
            "marker": {
             "colorbar": {
              "outlinewidth": 0,
              "ticks": ""
             }
            },
            "type": "scatterpolargl"
           }
          ],
          "scatterternary": [
           {
            "marker": {
             "colorbar": {
              "outlinewidth": 0,
              "ticks": ""
             }
            },
            "type": "scatterternary"
           }
          ],
          "surface": [
           {
            "colorbar": {
             "outlinewidth": 0,
             "ticks": ""
            },
            "colorscale": [
             [
              0,
              "#0d0887"
             ],
             [
              0.1111111111111111,
              "#46039f"
             ],
             [
              0.2222222222222222,
              "#7201a8"
             ],
             [
              0.3333333333333333,
              "#9c179e"
             ],
             [
              0.4444444444444444,
              "#bd3786"
             ],
             [
              0.5555555555555556,
              "#d8576b"
             ],
             [
              0.6666666666666666,
              "#ed7953"
             ],
             [
              0.7777777777777778,
              "#fb9f3a"
             ],
             [
              0.8888888888888888,
              "#fdca26"
             ],
             [
              1,
              "#f0f921"
             ]
            ],
            "type": "surface"
           }
          ],
          "table": [
           {
            "cells": {
             "fill": {
              "color": "#EBF0F8"
             },
             "line": {
              "color": "white"
             }
            },
            "header": {
             "fill": {
              "color": "#C8D4E3"
             },
             "line": {
              "color": "white"
             }
            },
            "type": "table"
           }
          ]
         },
         "layout": {
          "annotationdefaults": {
           "arrowcolor": "#2a3f5f",
           "arrowhead": 0,
           "arrowwidth": 1
          },
          "autotypenumbers": "strict",
          "coloraxis": {
           "colorbar": {
            "outlinewidth": 0,
            "ticks": ""
           }
          },
          "colorscale": {
           "diverging": [
            [
             0,
             "#8e0152"
            ],
            [
             0.1,
             "#c51b7d"
            ],
            [
             0.2,
             "#de77ae"
            ],
            [
             0.3,
             "#f1b6da"
            ],
            [
             0.4,
             "#fde0ef"
            ],
            [
             0.5,
             "#f7f7f7"
            ],
            [
             0.6,
             "#e6f5d0"
            ],
            [
             0.7,
             "#b8e186"
            ],
            [
             0.8,
             "#7fbc41"
            ],
            [
             0.9,
             "#4d9221"
            ],
            [
             1,
             "#276419"
            ]
           ],
           "sequential": [
            [
             0,
             "#0d0887"
            ],
            [
             0.1111111111111111,
             "#46039f"
            ],
            [
             0.2222222222222222,
             "#7201a8"
            ],
            [
             0.3333333333333333,
             "#9c179e"
            ],
            [
             0.4444444444444444,
             "#bd3786"
            ],
            [
             0.5555555555555556,
             "#d8576b"
            ],
            [
             0.6666666666666666,
             "#ed7953"
            ],
            [
             0.7777777777777778,
             "#fb9f3a"
            ],
            [
             0.8888888888888888,
             "#fdca26"
            ],
            [
             1,
             "#f0f921"
            ]
           ],
           "sequentialminus": [
            [
             0,
             "#0d0887"
            ],
            [
             0.1111111111111111,
             "#46039f"
            ],
            [
             0.2222222222222222,
             "#7201a8"
            ],
            [
             0.3333333333333333,
             "#9c179e"
            ],
            [
             0.4444444444444444,
             "#bd3786"
            ],
            [
             0.5555555555555556,
             "#d8576b"
            ],
            [
             0.6666666666666666,
             "#ed7953"
            ],
            [
             0.7777777777777778,
             "#fb9f3a"
            ],
            [
             0.8888888888888888,
             "#fdca26"
            ],
            [
             1,
             "#f0f921"
            ]
           ]
          },
          "colorway": [
           "#636efa",
           "#EF553B",
           "#00cc96",
           "#ab63fa",
           "#FFA15A",
           "#19d3f3",
           "#FF6692",
           "#B6E880",
           "#FF97FF",
           "#FECB52"
          ],
          "font": {
           "color": "#2a3f5f"
          },
          "geo": {
           "bgcolor": "white",
           "lakecolor": "white",
           "landcolor": "#E5ECF6",
           "showlakes": true,
           "showland": true,
           "subunitcolor": "white"
          },
          "hoverlabel": {
           "align": "left"
          },
          "hovermode": "closest",
          "mapbox": {
           "style": "light"
          },
          "paper_bgcolor": "white",
          "plot_bgcolor": "#E5ECF6",
          "polar": {
           "angularaxis": {
            "gridcolor": "white",
            "linecolor": "white",
            "ticks": ""
           },
           "bgcolor": "#E5ECF6",
           "radialaxis": {
            "gridcolor": "white",
            "linecolor": "white",
            "ticks": ""
           }
          },
          "scene": {
           "xaxis": {
            "backgroundcolor": "#E5ECF6",
            "gridcolor": "white",
            "gridwidth": 2,
            "linecolor": "white",
            "showbackground": true,
            "ticks": "",
            "zerolinecolor": "white"
           },
           "yaxis": {
            "backgroundcolor": "#E5ECF6",
            "gridcolor": "white",
            "gridwidth": 2,
            "linecolor": "white",
            "showbackground": true,
            "ticks": "",
            "zerolinecolor": "white"
           },
           "zaxis": {
            "backgroundcolor": "#E5ECF6",
            "gridcolor": "white",
            "gridwidth": 2,
            "linecolor": "white",
            "showbackground": true,
            "ticks": "",
            "zerolinecolor": "white"
           }
          },
          "shapedefaults": {
           "line": {
            "color": "#2a3f5f"
           }
          },
          "ternary": {
           "aaxis": {
            "gridcolor": "white",
            "linecolor": "white",
            "ticks": ""
           },
           "baxis": {
            "gridcolor": "white",
            "linecolor": "white",
            "ticks": ""
           },
           "bgcolor": "#E5ECF6",
           "caxis": {
            "gridcolor": "white",
            "linecolor": "white",
            "ticks": ""
           }
          },
          "title": {
           "x": 0.05
          },
          "xaxis": {
           "automargin": true,
           "gridcolor": "white",
           "linecolor": "white",
           "ticks": "",
           "title": {
            "standoff": 15
           },
           "zerolinecolor": "white",
           "zerolinewidth": 2
          },
          "yaxis": {
           "automargin": true,
           "gridcolor": "white",
           "linecolor": "white",
           "ticks": "",
           "title": {
            "standoff": 15
           },
           "zerolinecolor": "white",
           "zerolinewidth": 2
          }
         }
        },
        "width": 960,
        "xaxis": {
         "title": {
          "text": "log(Stellar Mass)"
         }
        },
        "yaxis": {
         "title": {
          "text": "log(Stellar Radius)"
         }
        }
       }
      }
     },
     "metadata": {},
     "output_type": "display_data"
    },
    {
     "name": "stdout",
     "output_type": "stream",
     "text": [
      "N = 0.709 ± 0.031,  k = 0.8499067866 ± 0.052\n"
     ]
    }
   ],
   "source": [
    "fig = go.Figure()\n",
    "\n",
    "x=np.log(stellar_masses)\n",
    "y=np.log(stellar_radii)\n",
    "\n",
    "fig.add_trace(go.Scatter(\n",
    "        x=x,\n",
    "        y=y,\n",
    "        mode='markers',\n",
    "        name=f\"\"\n",
    "))\n",
    "\n",
    "# Fit: log(radius) = N*log(mass) + log(k)\n",
    "(coefs, cov) = np.polyfit(x, y, 1, cov=True)\n",
    "N, logk = coefs\n",
    "N_err = np.sqrt(cov[0,0])\n",
    "logk_err = np.sqrt(cov[1,1])\n",
    "k = np.exp(logk)\n",
    "k_err = k * logk_err\n",
    "\n",
    "# For a nice straight line to overlay:\n",
    "x_line = np.linspace(x.min(), x.max(), 200)\n",
    "y_line = N*x_line + logk\n",
    "\n",
    "# Add to your existing figure (which currently plots logs).\n",
    "fig.add_trace(go.Scatter(\n",
    "    x=x_line,\n",
    "    y=y_line,\n",
    "    mode='lines',\n",
    "    name=f\"Fit: R ≈ {k:.2f} M^{N:.2f}\"\n",
    "))\n",
    "\n",
    "fig.update_layout(\n",
    "        xaxis_title=\"log(Stellar Mass)\",\n",
    "        yaxis_title=\"log(Stellar Radius)\",\n",
    "        legend=dict(x=0.65, y=0.98)\n",
    ")\n",
    "\n",
    "plot(fig)\n",
    "print(f\"N = {N:.3f} ± {N_err:.3f},  k = {k:.10f} ± {k_err:.3f}\")"
   ]
  },
  {
   "cell_type": "markdown",
   "id": "1249d876",
   "metadata": {},
   "source": [
    "This finds that $\\dfrac{R}{R_0}=k\\dfrac{M}{M_0}^{0.71}$, so:  \n",
    "\n",
    "$T_C \\approx 1.6\\times10^7\\ \\left(\\dfrac{R_0}{R}\\right)\\left(\\dfrac{M}{M_0}\\right)$  \n",
    "\n",
    "$T_C \\approx 1.6\\times10^7\\ \\left(\\dfrac{R_0}{kR_0\\dfrac{M}{M_0}^{0.71}}\\right)\\left(\\dfrac{M}{M_0}\\right)$  \n",
    "\n",
    "$T_C \\approx 1.6\\times10^7\\ \\dfrac{1}{k}\\left(\\dfrac{M}{M_0}\\right)^{-0.71}\\left(\\dfrac{M}{M_0}\\right)$  \n",
    "\n",
    "$T_C \\approx 1.6\\times10^7\\ \\dfrac{1}{k}\\left(\\dfrac{M}{M_0}\\right)^{0.29}$  \n",
    "\n",
    "$T_C \\approx 1.88235\\times10^7\\ \\left(\\dfrac{M}{M_0}\\right)^{0.29}$ for the fitted $k=0.85$  "
   ]
  },
  {
   "cell_type": "markdown",
   "id": "0a028da3",
   "metadata": {},
   "source": [
    "Now that we have central temperature as a function of mass, $T_C(M/M_0)$, we can use stellar masses from earlier to find a range of $T_C$ to compute various Gamow peak areas (proportional to fusion rate)"
   ]
  },
  {
   "cell_type": "code",
   "execution_count": 37,
   "id": "e3bf3a67",
   "metadata": {},
   "outputs": [],
   "source": [
    "central_temperatures = 1.88235*10**7 * stellar_masses**0.29\n",
    "areas = [get_area(energy, fusion_probability(temp, energy)) for temp in central_temperatures]\n"
   ]
  },
  {
   "cell_type": "markdown",
   "id": "dc2f7213",
   "metadata": {},
   "source": [
    "Plotting area against central temperature"
   ]
  },
  {
   "cell_type": "code",
   "execution_count": 38,
   "id": "14066474",
   "metadata": {},
   "outputs": [
    {
     "data": {
      "application/vnd.plotly.v1+json": {
       "config": {
        "plotlyServerURL": "https://plot.ly"
       },
       "data": [
        {
         "mode": "lines+markers",
         "name": "Fit: R ≈ 0.85 M^0.71",
         "type": "scatter",
         "x": {
          "bdata": "YcsQXPoPkUFZz8O7ByuJQecDnuP+wIRBRPgF6FbkfkGGpAbUOid5QX1uk9nOQnZBU6LXaRLwdEH4S7l14l5zQX9ZydlfdHJBAAAAwJTzcUHH7SsY4JNxQZpud6EZtHBBBfkYXrwecEEFPHKXo/VuQZ7p/iX3tWRBMOc6SWpCYUFjzkkklppgQQ==",
          "dtype": "f8"
         },
         "y": [
          0.8630363741943566,
          0.15216461473716514,
          0.04347671922289101,
          0.005225241251051557,
          0.0010379899632852782,
          0.00037466852026618293,
          0.00022090905169004353,
          0.00011106700234022654,
          0.00007167661411061293,
          0.00005563814632602345,
          0.00004580173875039349,
          0.000028408500944712916,
          0.000020258700313932856,
          0.00001370689354481646,
          2.064904790807805e-7,
          2.5086197150600294e-8,
          1.5750210413318934e-8
         ]
        }
       ],
       "layout": {
        "autosize": true,
        "height": 540,
        "legend": {
         "x": 0.65,
         "y": 0.98
        },
        "template": {
         "data": {
          "bar": [
           {
            "error_x": {
             "color": "#2a3f5f"
            },
            "error_y": {
             "color": "#2a3f5f"
            },
            "marker": {
             "line": {
              "color": "#E5ECF6",
              "width": 0.5
             },
             "pattern": {
              "fillmode": "overlay",
              "size": 10,
              "solidity": 0.2
             }
            },
            "type": "bar"
           }
          ],
          "barpolar": [
           {
            "marker": {
             "line": {
              "color": "#E5ECF6",
              "width": 0.5
             },
             "pattern": {
              "fillmode": "overlay",
              "size": 10,
              "solidity": 0.2
             }
            },
            "type": "barpolar"
           }
          ],
          "carpet": [
           {
            "aaxis": {
             "endlinecolor": "#2a3f5f",
             "gridcolor": "white",
             "linecolor": "white",
             "minorgridcolor": "white",
             "startlinecolor": "#2a3f5f"
            },
            "baxis": {
             "endlinecolor": "#2a3f5f",
             "gridcolor": "white",
             "linecolor": "white",
             "minorgridcolor": "white",
             "startlinecolor": "#2a3f5f"
            },
            "type": "carpet"
           }
          ],
          "choropleth": [
           {
            "colorbar": {
             "outlinewidth": 0,
             "ticks": ""
            },
            "type": "choropleth"
           }
          ],
          "contour": [
           {
            "colorbar": {
             "outlinewidth": 0,
             "ticks": ""
            },
            "colorscale": [
             [
              0,
              "#0d0887"
             ],
             [
              0.1111111111111111,
              "#46039f"
             ],
             [
              0.2222222222222222,
              "#7201a8"
             ],
             [
              0.3333333333333333,
              "#9c179e"
             ],
             [
              0.4444444444444444,
              "#bd3786"
             ],
             [
              0.5555555555555556,
              "#d8576b"
             ],
             [
              0.6666666666666666,
              "#ed7953"
             ],
             [
              0.7777777777777778,
              "#fb9f3a"
             ],
             [
              0.8888888888888888,
              "#fdca26"
             ],
             [
              1,
              "#f0f921"
             ]
            ],
            "type": "contour"
           }
          ],
          "contourcarpet": [
           {
            "colorbar": {
             "outlinewidth": 0,
             "ticks": ""
            },
            "type": "contourcarpet"
           }
          ],
          "heatmap": [
           {
            "colorbar": {
             "outlinewidth": 0,
             "ticks": ""
            },
            "colorscale": [
             [
              0,
              "#0d0887"
             ],
             [
              0.1111111111111111,
              "#46039f"
             ],
             [
              0.2222222222222222,
              "#7201a8"
             ],
             [
              0.3333333333333333,
              "#9c179e"
             ],
             [
              0.4444444444444444,
              "#bd3786"
             ],
             [
              0.5555555555555556,
              "#d8576b"
             ],
             [
              0.6666666666666666,
              "#ed7953"
             ],
             [
              0.7777777777777778,
              "#fb9f3a"
             ],
             [
              0.8888888888888888,
              "#fdca26"
             ],
             [
              1,
              "#f0f921"
             ]
            ],
            "type": "heatmap"
           }
          ],
          "histogram": [
           {
            "marker": {
             "pattern": {
              "fillmode": "overlay",
              "size": 10,
              "solidity": 0.2
             }
            },
            "type": "histogram"
           }
          ],
          "histogram2d": [
           {
            "colorbar": {
             "outlinewidth": 0,
             "ticks": ""
            },
            "colorscale": [
             [
              0,
              "#0d0887"
             ],
             [
              0.1111111111111111,
              "#46039f"
             ],
             [
              0.2222222222222222,
              "#7201a8"
             ],
             [
              0.3333333333333333,
              "#9c179e"
             ],
             [
              0.4444444444444444,
              "#bd3786"
             ],
             [
              0.5555555555555556,
              "#d8576b"
             ],
             [
              0.6666666666666666,
              "#ed7953"
             ],
             [
              0.7777777777777778,
              "#fb9f3a"
             ],
             [
              0.8888888888888888,
              "#fdca26"
             ],
             [
              1,
              "#f0f921"
             ]
            ],
            "type": "histogram2d"
           }
          ],
          "histogram2dcontour": [
           {
            "colorbar": {
             "outlinewidth": 0,
             "ticks": ""
            },
            "colorscale": [
             [
              0,
              "#0d0887"
             ],
             [
              0.1111111111111111,
              "#46039f"
             ],
             [
              0.2222222222222222,
              "#7201a8"
             ],
             [
              0.3333333333333333,
              "#9c179e"
             ],
             [
              0.4444444444444444,
              "#bd3786"
             ],
             [
              0.5555555555555556,
              "#d8576b"
             ],
             [
              0.6666666666666666,
              "#ed7953"
             ],
             [
              0.7777777777777778,
              "#fb9f3a"
             ],
             [
              0.8888888888888888,
              "#fdca26"
             ],
             [
              1,
              "#f0f921"
             ]
            ],
            "type": "histogram2dcontour"
           }
          ],
          "mesh3d": [
           {
            "colorbar": {
             "outlinewidth": 0,
             "ticks": ""
            },
            "type": "mesh3d"
           }
          ],
          "parcoords": [
           {
            "line": {
             "colorbar": {
              "outlinewidth": 0,
              "ticks": ""
             }
            },
            "type": "parcoords"
           }
          ],
          "pie": [
           {
            "automargin": true,
            "type": "pie"
           }
          ],
          "scatter": [
           {
            "fillpattern": {
             "fillmode": "overlay",
             "size": 10,
             "solidity": 0.2
            },
            "type": "scatter"
           }
          ],
          "scatter3d": [
           {
            "line": {
             "colorbar": {
              "outlinewidth": 0,
              "ticks": ""
             }
            },
            "marker": {
             "colorbar": {
              "outlinewidth": 0,
              "ticks": ""
             }
            },
            "type": "scatter3d"
           }
          ],
          "scattercarpet": [
           {
            "marker": {
             "colorbar": {
              "outlinewidth": 0,
              "ticks": ""
             }
            },
            "type": "scattercarpet"
           }
          ],
          "scattergeo": [
           {
            "marker": {
             "colorbar": {
              "outlinewidth": 0,
              "ticks": ""
             }
            },
            "type": "scattergeo"
           }
          ],
          "scattergl": [
           {
            "marker": {
             "colorbar": {
              "outlinewidth": 0,
              "ticks": ""
             }
            },
            "type": "scattergl"
           }
          ],
          "scattermap": [
           {
            "marker": {
             "colorbar": {
              "outlinewidth": 0,
              "ticks": ""
             }
            },
            "type": "scattermap"
           }
          ],
          "scattermapbox": [
           {
            "marker": {
             "colorbar": {
              "outlinewidth": 0,
              "ticks": ""
             }
            },
            "type": "scattermapbox"
           }
          ],
          "scatterpolar": [
           {
            "marker": {
             "colorbar": {
              "outlinewidth": 0,
              "ticks": ""
             }
            },
            "type": "scatterpolar"
           }
          ],
          "scatterpolargl": [
           {
            "marker": {
             "colorbar": {
              "outlinewidth": 0,
              "ticks": ""
             }
            },
            "type": "scatterpolargl"
           }
          ],
          "scatterternary": [
           {
            "marker": {
             "colorbar": {
              "outlinewidth": 0,
              "ticks": ""
             }
            },
            "type": "scatterternary"
           }
          ],
          "surface": [
           {
            "colorbar": {
             "outlinewidth": 0,
             "ticks": ""
            },
            "colorscale": [
             [
              0,
              "#0d0887"
             ],
             [
              0.1111111111111111,
              "#46039f"
             ],
             [
              0.2222222222222222,
              "#7201a8"
             ],
             [
              0.3333333333333333,
              "#9c179e"
             ],
             [
              0.4444444444444444,
              "#bd3786"
             ],
             [
              0.5555555555555556,
              "#d8576b"
             ],
             [
              0.6666666666666666,
              "#ed7953"
             ],
             [
              0.7777777777777778,
              "#fb9f3a"
             ],
             [
              0.8888888888888888,
              "#fdca26"
             ],
             [
              1,
              "#f0f921"
             ]
            ],
            "type": "surface"
           }
          ],
          "table": [
           {
            "cells": {
             "fill": {
              "color": "#EBF0F8"
             },
             "line": {
              "color": "white"
             }
            },
            "header": {
             "fill": {
              "color": "#C8D4E3"
             },
             "line": {
              "color": "white"
             }
            },
            "type": "table"
           }
          ]
         },
         "layout": {
          "annotationdefaults": {
           "arrowcolor": "#2a3f5f",
           "arrowhead": 0,
           "arrowwidth": 1
          },
          "autotypenumbers": "strict",
          "coloraxis": {
           "colorbar": {
            "outlinewidth": 0,
            "ticks": ""
           }
          },
          "colorscale": {
           "diverging": [
            [
             0,
             "#8e0152"
            ],
            [
             0.1,
             "#c51b7d"
            ],
            [
             0.2,
             "#de77ae"
            ],
            [
             0.3,
             "#f1b6da"
            ],
            [
             0.4,
             "#fde0ef"
            ],
            [
             0.5,
             "#f7f7f7"
            ],
            [
             0.6,
             "#e6f5d0"
            ],
            [
             0.7,
             "#b8e186"
            ],
            [
             0.8,
             "#7fbc41"
            ],
            [
             0.9,
             "#4d9221"
            ],
            [
             1,
             "#276419"
            ]
           ],
           "sequential": [
            [
             0,
             "#0d0887"
            ],
            [
             0.1111111111111111,
             "#46039f"
            ],
            [
             0.2222222222222222,
             "#7201a8"
            ],
            [
             0.3333333333333333,
             "#9c179e"
            ],
            [
             0.4444444444444444,
             "#bd3786"
            ],
            [
             0.5555555555555556,
             "#d8576b"
            ],
            [
             0.6666666666666666,
             "#ed7953"
            ],
            [
             0.7777777777777778,
             "#fb9f3a"
            ],
            [
             0.8888888888888888,
             "#fdca26"
            ],
            [
             1,
             "#f0f921"
            ]
           ],
           "sequentialminus": [
            [
             0,
             "#0d0887"
            ],
            [
             0.1111111111111111,
             "#46039f"
            ],
            [
             0.2222222222222222,
             "#7201a8"
            ],
            [
             0.3333333333333333,
             "#9c179e"
            ],
            [
             0.4444444444444444,
             "#bd3786"
            ],
            [
             0.5555555555555556,
             "#d8576b"
            ],
            [
             0.6666666666666666,
             "#ed7953"
            ],
            [
             0.7777777777777778,
             "#fb9f3a"
            ],
            [
             0.8888888888888888,
             "#fdca26"
            ],
            [
             1,
             "#f0f921"
            ]
           ]
          },
          "colorway": [
           "#636efa",
           "#EF553B",
           "#00cc96",
           "#ab63fa",
           "#FFA15A",
           "#19d3f3",
           "#FF6692",
           "#B6E880",
           "#FF97FF",
           "#FECB52"
          ],
          "font": {
           "color": "#2a3f5f"
          },
          "geo": {
           "bgcolor": "white",
           "lakecolor": "white",
           "landcolor": "#E5ECF6",
           "showlakes": true,
           "showland": true,
           "subunitcolor": "white"
          },
          "hoverlabel": {
           "align": "left"
          },
          "hovermode": "closest",
          "mapbox": {
           "style": "light"
          },
          "paper_bgcolor": "white",
          "plot_bgcolor": "#E5ECF6",
          "polar": {
           "angularaxis": {
            "gridcolor": "white",
            "linecolor": "white",
            "ticks": ""
           },
           "bgcolor": "#E5ECF6",
           "radialaxis": {
            "gridcolor": "white",
            "linecolor": "white",
            "ticks": ""
           }
          },
          "scene": {
           "xaxis": {
            "backgroundcolor": "#E5ECF6",
            "gridcolor": "white",
            "gridwidth": 2,
            "linecolor": "white",
            "showbackground": true,
            "ticks": "",
            "zerolinecolor": "white"
           },
           "yaxis": {
            "backgroundcolor": "#E5ECF6",
            "gridcolor": "white",
            "gridwidth": 2,
            "linecolor": "white",
            "showbackground": true,
            "ticks": "",
            "zerolinecolor": "white"
           },
           "zaxis": {
            "backgroundcolor": "#E5ECF6",
            "gridcolor": "white",
            "gridwidth": 2,
            "linecolor": "white",
            "showbackground": true,
            "ticks": "",
            "zerolinecolor": "white"
           }
          },
          "shapedefaults": {
           "line": {
            "color": "#2a3f5f"
           }
          },
          "ternary": {
           "aaxis": {
            "gridcolor": "white",
            "linecolor": "white",
            "ticks": ""
           },
           "baxis": {
            "gridcolor": "white",
            "linecolor": "white",
            "ticks": ""
           },
           "bgcolor": "#E5ECF6",
           "caxis": {
            "gridcolor": "white",
            "linecolor": "white",
            "ticks": ""
           }
          },
          "title": {
           "x": 0.05
          },
          "xaxis": {
           "automargin": true,
           "gridcolor": "white",
           "linecolor": "white",
           "ticks": "",
           "title": {
            "standoff": 15
           },
           "zerolinecolor": "white",
           "zerolinewidth": 2
          },
          "yaxis": {
           "automargin": true,
           "gridcolor": "white",
           "linecolor": "white",
           "ticks": "",
           "title": {
            "standoff": 15
           },
           "zerolinecolor": "white",
           "zerolinewidth": 2
          }
         }
        },
        "width": 960,
        "xaxis": {
         "title": {
          "text": "Central Temperature [K]"
         }
        },
        "yaxis": {
         "title": {
          "text": "Gamow Peak Area"
         }
        }
       }
      }
     },
     "metadata": {},
     "output_type": "display_data"
    }
   ],
   "source": [
    "fig = go.Figure()\n",
    "\n",
    "fig.add_trace(go.Scatter(\n",
    "    x=central_temperatures,\n",
    "    y=areas,\n",
    "    mode='lines+markers',\n",
    "    name=f\"Fit: R ≈ {k:.2f} M^{N:.2f}\"\n",
    "))\n",
    "\n",
    "fig.update_layout(\n",
    "        xaxis_title=\"Central Temperature [K]\",\n",
    "        yaxis_title=\"Gamow Peak Area\",\n",
    "        legend=dict(x=0.65, y=0.98)\n",
    ")\n",
    "\n",
    "plot(fig)"
   ]
  },
  {
   "cell_type": "markdown",
   "id": "807cb26a",
   "metadata": {},
   "source": [
    "Plotting area against mass"
   ]
  },
  {
   "cell_type": "code",
   "execution_count": 39,
   "id": "0795ea2a",
   "metadata": {},
   "outputs": [
    {
     "data": {
      "application/vnd.plotly.v1+json": {
       "config": {
        "plotlyServerURL": "https://plot.ly"
       },
       "data": [
        {
         "mode": "markers",
         "name": "",
         "type": "scatter",
         "x": {
          "bdata": "FlW1u7FrEkDF8w9TWnEMQIaRazp7HwdAqvvl1uby/T+r5gYGRJzyP25m6WLzvec/kakUGej64D/cueF7k8rQP8xGPHk/Zrg/AAAAAAAAAAB1qV8w/pOyv47dQPKUzc+/r6UT4oG/179SFIH6rljgvxjEOnyaWv6/uP4uOLE0BMD/fFEgKkYFwA==",
          "dtype": "f8"
         },
         "y": {
          "bdata": "pZ/L36zawr8jWa/f6h/+v0yP+pSQFQnAeOzkPVsEFcBQyrZEXHsbwCFHWu3Qjh/AblnLkeTVIMCHZX/28zUiwIFCTXMxFiPAUAZGZeGXI8BkHT4PffsjwEeCO3QJ8CTAismxbiWdJcCApXNbLWUmwHOst844yS7A4yu/IT6AMcB+TsDIZvcxwA==",
          "dtype": "f8"
         }
        },
        {
         "mode": "lines",
         "name": "Fit: R ≈ 0.00 M^2.48",
         "type": "scatter",
         "x": {
          "bdata": "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",
          "dtype": "f8"
         },
         "y": {
          "bdata": "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",
          "dtype": "f8"
         }
        }
       ],
       "layout": {
        "autosize": true,
        "height": 540,
        "legend": {
         "x": 0.65,
         "y": 0.98
        },
        "template": {
         "data": {
          "bar": [
           {
            "error_x": {
             "color": "#2a3f5f"
            },
            "error_y": {
             "color": "#2a3f5f"
            },
            "marker": {
             "line": {
              "color": "#E5ECF6",
              "width": 0.5
             },
             "pattern": {
              "fillmode": "overlay",
              "size": 10,
              "solidity": 0.2
             }
            },
            "type": "bar"
           }
          ],
          "barpolar": [
           {
            "marker": {
             "line": {
              "color": "#E5ECF6",
              "width": 0.5
             },
             "pattern": {
              "fillmode": "overlay",
              "size": 10,
              "solidity": 0.2
             }
            },
            "type": "barpolar"
           }
          ],
          "carpet": [
           {
            "aaxis": {
             "endlinecolor": "#2a3f5f",
             "gridcolor": "white",
             "linecolor": "white",
             "minorgridcolor": "white",
             "startlinecolor": "#2a3f5f"
            },
            "baxis": {
             "endlinecolor": "#2a3f5f",
             "gridcolor": "white",
             "linecolor": "white",
             "minorgridcolor": "white",
             "startlinecolor": "#2a3f5f"
            },
            "type": "carpet"
           }
          ],
          "choropleth": [
           {
            "colorbar": {
             "outlinewidth": 0,
             "ticks": ""
            },
            "type": "choropleth"
           }
          ],
          "contour": [
           {
            "colorbar": {
             "outlinewidth": 0,
             "ticks": ""
            },
            "colorscale": [
             [
              0,
              "#0d0887"
             ],
             [
              0.1111111111111111,
              "#46039f"
             ],
             [
              0.2222222222222222,
              "#7201a8"
             ],
             [
              0.3333333333333333,
              "#9c179e"
             ],
             [
              0.4444444444444444,
              "#bd3786"
             ],
             [
              0.5555555555555556,
              "#d8576b"
             ],
             [
              0.6666666666666666,
              "#ed7953"
             ],
             [
              0.7777777777777778,
              "#fb9f3a"
             ],
             [
              0.8888888888888888,
              "#fdca26"
             ],
             [
              1,
              "#f0f921"
             ]
            ],
            "type": "contour"
           }
          ],
          "contourcarpet": [
           {
            "colorbar": {
             "outlinewidth": 0,
             "ticks": ""
            },
            "type": "contourcarpet"
           }
          ],
          "heatmap": [
           {
            "colorbar": {
             "outlinewidth": 0,
             "ticks": ""
            },
            "colorscale": [
             [
              0,
              "#0d0887"
             ],
             [
              0.1111111111111111,
              "#46039f"
             ],
             [
              0.2222222222222222,
              "#7201a8"
             ],
             [
              0.3333333333333333,
              "#9c179e"
             ],
             [
              0.4444444444444444,
              "#bd3786"
             ],
             [
              0.5555555555555556,
              "#d8576b"
             ],
             [
              0.6666666666666666,
              "#ed7953"
             ],
             [
              0.7777777777777778,
              "#fb9f3a"
             ],
             [
              0.8888888888888888,
              "#fdca26"
             ],
             [
              1,
              "#f0f921"
             ]
            ],
            "type": "heatmap"
           }
          ],
          "histogram": [
           {
            "marker": {
             "pattern": {
              "fillmode": "overlay",
              "size": 10,
              "solidity": 0.2
             }
            },
            "type": "histogram"
           }
          ],
          "histogram2d": [
           {
            "colorbar": {
             "outlinewidth": 0,
             "ticks": ""
            },
            "colorscale": [
             [
              0,
              "#0d0887"
             ],
             [
              0.1111111111111111,
              "#46039f"
             ],
             [
              0.2222222222222222,
              "#7201a8"
             ],
             [
              0.3333333333333333,
              "#9c179e"
             ],
             [
              0.4444444444444444,
              "#bd3786"
             ],
             [
              0.5555555555555556,
              "#d8576b"
             ],
             [
              0.6666666666666666,
              "#ed7953"
             ],
             [
              0.7777777777777778,
              "#fb9f3a"
             ],
             [
              0.8888888888888888,
              "#fdca26"
             ],
             [
              1,
              "#f0f921"
             ]
            ],
            "type": "histogram2d"
           }
          ],
          "histogram2dcontour": [
           {
            "colorbar": {
             "outlinewidth": 0,
             "ticks": ""
            },
            "colorscale": [
             [
              0,
              "#0d0887"
             ],
             [
              0.1111111111111111,
              "#46039f"
             ],
             [
              0.2222222222222222,
              "#7201a8"
             ],
             [
              0.3333333333333333,
              "#9c179e"
             ],
             [
              0.4444444444444444,
              "#bd3786"
             ],
             [
              0.5555555555555556,
              "#d8576b"
             ],
             [
              0.6666666666666666,
              "#ed7953"
             ],
             [
              0.7777777777777778,
              "#fb9f3a"
             ],
             [
              0.8888888888888888,
              "#fdca26"
             ],
             [
              1,
              "#f0f921"
             ]
            ],
            "type": "histogram2dcontour"
           }
          ],
          "mesh3d": [
           {
            "colorbar": {
             "outlinewidth": 0,
             "ticks": ""
            },
            "type": "mesh3d"
           }
          ],
          "parcoords": [
           {
            "line": {
             "colorbar": {
              "outlinewidth": 0,
              "ticks": ""
             }
            },
            "type": "parcoords"
           }
          ],
          "pie": [
           {
            "automargin": true,
            "type": "pie"
           }
          ],
          "scatter": [
           {
            "fillpattern": {
             "fillmode": "overlay",
             "size": 10,
             "solidity": 0.2
            },
            "type": "scatter"
           }
          ],
          "scatter3d": [
           {
            "line": {
             "colorbar": {
              "outlinewidth": 0,
              "ticks": ""
             }
            },
            "marker": {
             "colorbar": {
              "outlinewidth": 0,
              "ticks": ""
             }
            },
            "type": "scatter3d"
           }
          ],
          "scattercarpet": [
           {
            "marker": {
             "colorbar": {
              "outlinewidth": 0,
              "ticks": ""
             }
            },
            "type": "scattercarpet"
           }
          ],
          "scattergeo": [
           {
            "marker": {
             "colorbar": {
              "outlinewidth": 0,
              "ticks": ""
             }
            },
            "type": "scattergeo"
           }
          ],
          "scattergl": [
           {
            "marker": {
             "colorbar": {
              "outlinewidth": 0,
              "ticks": ""
             }
            },
            "type": "scattergl"
           }
          ],
          "scattermap": [
           {
            "marker": {
             "colorbar": {
              "outlinewidth": 0,
              "ticks": ""
             }
            },
            "type": "scattermap"
           }
          ],
          "scattermapbox": [
           {
            "marker": {
             "colorbar": {
              "outlinewidth": 0,
              "ticks": ""
             }
            },
            "type": "scattermapbox"
           }
          ],
          "scatterpolar": [
           {
            "marker": {
             "colorbar": {
              "outlinewidth": 0,
              "ticks": ""
             }
            },
            "type": "scatterpolar"
           }
          ],
          "scatterpolargl": [
           {
            "marker": {
             "colorbar": {
              "outlinewidth": 0,
              "ticks": ""
             }
            },
            "type": "scatterpolargl"
           }
          ],
          "scatterternary": [
           {
            "marker": {
             "colorbar": {
              "outlinewidth": 0,
              "ticks": ""
             }
            },
            "type": "scatterternary"
           }
          ],
          "surface": [
           {
            "colorbar": {
             "outlinewidth": 0,
             "ticks": ""
            },
            "colorscale": [
             [
              0,
              "#0d0887"
             ],
             [
              0.1111111111111111,
              "#46039f"
             ],
             [
              0.2222222222222222,
              "#7201a8"
             ],
             [
              0.3333333333333333,
              "#9c179e"
             ],
             [
              0.4444444444444444,
              "#bd3786"
             ],
             [
              0.5555555555555556,
              "#d8576b"
             ],
             [
              0.6666666666666666,
              "#ed7953"
             ],
             [
              0.7777777777777778,
              "#fb9f3a"
             ],
             [
              0.8888888888888888,
              "#fdca26"
             ],
             [
              1,
              "#f0f921"
             ]
            ],
            "type": "surface"
           }
          ],
          "table": [
           {
            "cells": {
             "fill": {
              "color": "#EBF0F8"
             },
             "line": {
              "color": "white"
             }
            },
            "header": {
             "fill": {
              "color": "#C8D4E3"
             },
             "line": {
              "color": "white"
             }
            },
            "type": "table"
           }
          ]
         },
         "layout": {
          "annotationdefaults": {
           "arrowcolor": "#2a3f5f",
           "arrowhead": 0,
           "arrowwidth": 1
          },
          "autotypenumbers": "strict",
          "coloraxis": {
           "colorbar": {
            "outlinewidth": 0,
            "ticks": ""
           }
          },
          "colorscale": {
           "diverging": [
            [
             0,
             "#8e0152"
            ],
            [
             0.1,
             "#c51b7d"
            ],
            [
             0.2,
             "#de77ae"
            ],
            [
             0.3,
             "#f1b6da"
            ],
            [
             0.4,
             "#fde0ef"
            ],
            [
             0.5,
             "#f7f7f7"
            ],
            [
             0.6,
             "#e6f5d0"
            ],
            [
             0.7,
             "#b8e186"
            ],
            [
             0.8,
             "#7fbc41"
            ],
            [
             0.9,
             "#4d9221"
            ],
            [
             1,
             "#276419"
            ]
           ],
           "sequential": [
            [
             0,
             "#0d0887"
            ],
            [
             0.1111111111111111,
             "#46039f"
            ],
            [
             0.2222222222222222,
             "#7201a8"
            ],
            [
             0.3333333333333333,
             "#9c179e"
            ],
            [
             0.4444444444444444,
             "#bd3786"
            ],
            [
             0.5555555555555556,
             "#d8576b"
            ],
            [
             0.6666666666666666,
             "#ed7953"
            ],
            [
             0.7777777777777778,
             "#fb9f3a"
            ],
            [
             0.8888888888888888,
             "#fdca26"
            ],
            [
             1,
             "#f0f921"
            ]
           ],
           "sequentialminus": [
            [
             0,
             "#0d0887"
            ],
            [
             0.1111111111111111,
             "#46039f"
            ],
            [
             0.2222222222222222,
             "#7201a8"
            ],
            [
             0.3333333333333333,
             "#9c179e"
            ],
            [
             0.4444444444444444,
             "#bd3786"
            ],
            [
             0.5555555555555556,
             "#d8576b"
            ],
            [
             0.6666666666666666,
             "#ed7953"
            ],
            [
             0.7777777777777778,
             "#fb9f3a"
            ],
            [
             0.8888888888888888,
             "#fdca26"
            ],
            [
             1,
             "#f0f921"
            ]
           ]
          },
          "colorway": [
           "#636efa",
           "#EF553B",
           "#00cc96",
           "#ab63fa",
           "#FFA15A",
           "#19d3f3",
           "#FF6692",
           "#B6E880",
           "#FF97FF",
           "#FECB52"
          ],
          "font": {
           "color": "#2a3f5f"
          },
          "geo": {
           "bgcolor": "white",
           "lakecolor": "white",
           "landcolor": "#E5ECF6",
           "showlakes": true,
           "showland": true,
           "subunitcolor": "white"
          },
          "hoverlabel": {
           "align": "left"
          },
          "hovermode": "closest",
          "mapbox": {
           "style": "light"
          },
          "paper_bgcolor": "white",
          "plot_bgcolor": "#E5ECF6",
          "polar": {
           "angularaxis": {
            "gridcolor": "white",
            "linecolor": "white",
            "ticks": ""
           },
           "bgcolor": "#E5ECF6",
           "radialaxis": {
            "gridcolor": "white",
            "linecolor": "white",
            "ticks": ""
           }
          },
          "scene": {
           "xaxis": {
            "backgroundcolor": "#E5ECF6",
            "gridcolor": "white",
            "gridwidth": 2,
            "linecolor": "white",
            "showbackground": true,
            "ticks": "",
            "zerolinecolor": "white"
           },
           "yaxis": {
            "backgroundcolor": "#E5ECF6",
            "gridcolor": "white",
            "gridwidth": 2,
            "linecolor": "white",
            "showbackground": true,
            "ticks": "",
            "zerolinecolor": "white"
           },
           "zaxis": {
            "backgroundcolor": "#E5ECF6",
            "gridcolor": "white",
            "gridwidth": 2,
            "linecolor": "white",
            "showbackground": true,
            "ticks": "",
            "zerolinecolor": "white"
           }
          },
          "shapedefaults": {
           "line": {
            "color": "#2a3f5f"
           }
          },
          "ternary": {
           "aaxis": {
            "gridcolor": "white",
            "linecolor": "white",
            "ticks": ""
           },
           "baxis": {
            "gridcolor": "white",
            "linecolor": "white",
            "ticks": ""
           },
           "bgcolor": "#E5ECF6",
           "caxis": {
            "gridcolor": "white",
            "linecolor": "white",
            "ticks": ""
           }
          },
          "title": {
           "x": 0.05
          },
          "xaxis": {
           "automargin": true,
           "gridcolor": "white",
           "linecolor": "white",
           "ticks": "",
           "title": {
            "standoff": 15
           },
           "zerolinecolor": "white",
           "zerolinewidth": 2
          },
          "yaxis": {
           "automargin": true,
           "gridcolor": "white",
           "linecolor": "white",
           "ticks": "",
           "title": {
            "standoff": 15
           },
           "zerolinecolor": "white",
           "zerolinewidth": 2
          }
         }
        },
        "width": 960,
        "xaxis": {
         "title": {
          "text": "log(M/M_0)"
         }
        },
        "yaxis": {
         "title": {
          "text": "log(area)"
         }
        }
       }
      }
     },
     "metadata": {},
     "output_type": "display_data"
    },
    {
     "name": "stdout",
     "output_type": "stream",
     "text": [
      "N = 2.479 ± 0.084,  k = 0.0000363312 ± 0.000\n"
     ]
    }
   ],
   "source": [
    "fig = go.Figure()\n",
    "\n",
    "x=np.log(stellar_masses)\n",
    "y=np.log(areas)\n",
    "\n",
    "fig.add_trace(go.Scatter(\n",
    "        x=x,\n",
    "        y=y,\n",
    "        mode='markers',\n",
    "        name=f\"\"\n",
    "))\n",
    "\n",
    "# Fit: log(radius) = N*log(mass) + log(k)\n",
    "(coefs, cov) = np.polyfit(x, y, 1, cov=True)\n",
    "N, logk = coefs\n",
    "N_err = np.sqrt(cov[0,0])\n",
    "logk_err = np.sqrt(cov[1,1])\n",
    "k = np.exp(logk)\n",
    "k_err = k * logk_err\n",
    "\n",
    "# For a nice straight line to overlay:\n",
    "x_line = np.linspace(x.min(), x.max(), 200)\n",
    "y_line = N*x_line + logk\n",
    "\n",
    "# Add to your existing figure (which currently plots logs).\n",
    "fig.add_trace(go.Scatter(\n",
    "    x=x_line,\n",
    "    y=y_line,\n",
    "    mode='lines',\n",
    "    name=f\"Fit: R ≈ {k:.2f} M^{N:.2f}\"\n",
    "))\n",
    "\n",
    "fig.update_layout(\n",
    "        xaxis_title=\"log(M/M_0)\",\n",
    "        yaxis_title=\"log(area)\",\n",
    "        legend=dict(x=0.65, y=0.98)\n",
    ")\n",
    "\n",
    "plot(fig)\n",
    "print(f\"N = {N:.3f} ± {N_err:.3f},  k = {k:.10f} ± {k_err:.3f}\")"
   ]
  },
  {
   "cell_type": "markdown",
   "id": "bf312e1f",
   "metadata": {},
   "source": [
    "**Final scaling and interpretation**  \n",
    "\n",
    "Using the mass–radius fit $\\dfrac{R}{R_0} \\approx k\\dfrac{M}{M_0}^N,$ where my fit finds $N = 0.71$ and $k = 0.85$, the central temperature relation was found to be:  \n",
    "\n",
    "$$\n",
    "T_C(M) \\approx 1.6\\times10^7\\ \\dfrac{1}{k}\\left(\\dfrac{M}{M_0}\\right)^{1-N}\n",
    "$$  \n",
    "$$\n",
    "T_C(M) \\approx 1.88235\\times10^7\\ \\left(\\dfrac{M}{M_0}\\right)^{0.29}\n",
    "$$\n",
    "  \n",
    "Evaluating the Gamow-peak area (fusion reaction rate) at these $T_C(M)$ values and fitting for a power law finds:   \n",
    "\n",
    "$$\n",
    "\\text{Rate} \\propto  M^{N_{rate}},\n",
    "$$\n",
    "where $N_{rate} = 2.5$. Assuming the available fuel will be proportional to the mass, M, the main-sequence lifetime scales as:  \n",
    "\n",
    "$$\n",
    "\\text{Lifetime}(M) \\propto \\dfrac{M}{\\text{Rate}} \\propto \\dfrac{M}{M^{2.5}}\n",
    "$$\n",
    "$$\n",
    "\\text{Lifetime}(M) \\propto M^{-1.5}\n",
    "$$"
   ]
  },
  {
   "cell_type": "markdown",
   "id": "4e7ba2b4",
   "metadata": {},
   "source": [
    "Explaining final result:\n",
    "\n",
    "1. What does it mean for the dependence of lifetime on mass for stars?  \n",
    "\n",
    "(For main sequence)\n",
    "- Larger mass = higher fusion reaction rate (more fuel to burn)\n",
    "- Higher reaction rate = Faster reactions = shorter lifetime\n",
    "- Temperature also scales up with mass, so a higher mass means higher temperature, means higher particle speed, higher reaction rate\n",
    "2. \n",
    "3. How valid is my result? Limitations? Why does it differ from given model: https://rainman.astro.illinois.edu/ddr/stellar/intermediate.html"
   ]
  },
  {
   "cell_type": "markdown",
   "id": "73b8ba32",
   "metadata": {},
   "source": []
  }
 ],
 "metadata": {
  "kernelspec": {
   "display_name": "Python 3",
   "language": "python",
   "name": "python3"
  },
  "language_info": {
   "codemirror_mode": {
    "name": "ipython",
    "version": 3
   },
   "file_extension": ".py",
   "mimetype": "text/x-python",
   "name": "python",
   "nbconvert_exporter": "python",
   "pygments_lexer": "ipython3",
   "version": "3.11.9"
  }
 },
 "nbformat": 4,
 "nbformat_minor": 5
}
